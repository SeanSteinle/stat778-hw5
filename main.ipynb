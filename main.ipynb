{
 "cells": [
  {
   "cell_type": "markdown",
   "id": "bound-assignment",
   "metadata": {},
   "source": [
    "# STAT778: Homework 5\n",
    "*Sean Steinle*\n",
    "\n",
    "## Table of Contents\n",
    "1. [Inverse Transform Sampling and Metropolis-Hastings](#Inverse-Transform-Sampling-and-Metropolis-Hastings)\n",
    "    - [Inverse Transform Sampling for G](#Inverse-Transform-Sampling-for-G)\n",
    "    - [A Valid Envelope](#A-Valid-Envelope)\n",
    "    - [Rejection Sampling for F](#Rejection-Sampling-for-F)\n",
    "2. [Gibbs Sampling](#Gibbs-Sampling)"
   ]
  },
  {
   "cell_type": "markdown",
   "id": "wooden-message",
   "metadata": {},
   "source": [
    "## Inverse Transform Sampling and Metropolis-Hastings"
   ]
  },
  {
   "cell_type": "markdown",
   "id": "harmful-idaho",
   "metadata": {},
   "source": [
    "### Inverse Transform Sampling for G"
   ]
  },
  {
   "cell_type": "markdown",
   "id": "signed-exploration",
   "metadata": {},
   "source": [
    "Question 1a asks us to create a sampler for g.\n",
    "1. We can treat g(x,y|z) as two independent variables g(x|z) and g(y|z).\n",
    "2. Both g(x|z) and g(y|z) have the same functional form as each other. The only different is that x is distributed from (-inf,inf) while y is distributed from \\[0,inf).\n",
    "3. Both g(x|z) and g(y|z) have the same functional form as the Laplace distribution, where z is the location parameter and diversity is set sqrt(2). Note that g(x|z) amnd g(y|z) are scaled by a factor of 2*sqrt(2).\n",
    "4. Because we know the Laplace distribution has a closed-form inverse, we can use inverse transform sampling to generate random numbers of the same functional form as g(x|z) and g(y|z)."
   ]
  },
  {
   "cell_type": "code",
   "execution_count": 244,
   "id": "communist-namibia",
   "metadata": {},
   "outputs": [],
   "source": [
    "#imports\n",
    "import matplotlib.pyplot as plt\n",
    "import pandas as pd\n",
    "from numpy.random import uniform, normal, laplace\n",
    "from numpy import sign,linspace\n",
    "from math import exp, log\n",
    "from scipy.stats import truncnorm"
   ]
  },
  {
   "cell_type": "code",
   "execution_count": 160,
   "id": "exclusive-point",
   "metadata": {},
   "outputs": [],
   "source": [
    "def slaplace(z: float = 0, beta: float = 1): \n",
    "    \"\"\"Generates samples from the Laplace distribution where z is the location parameter and beta is the diversity parameter.\"\"\"\n",
    "    u = uniform() #draw u, a float from [0,1]\n",
    "    sample = z - beta * sign(u - 0.5) * log(1 - 2 * abs(u - 0.5)) #transform u using inverse cdf of the laplace distribution\n",
    "    return sample #rescale sample\n",
    "\n",
    "def g(x_loc: float, y_loc: float):\n",
    "    \"\"\"Uses our Laplace samplers to sample our two variables.\"\"\"\n",
    "    x_draw = slaplace(x_loc)\n",
    "    y_draw = -1\n",
    "    while y_draw < 0:\n",
    "        y_draw = slaplace(y_loc)\n",
    "    return x_draw,y_draw\n",
    "\n",
    "def g_density(x: float, y: float, z: float = 0):\n",
    "    \"\"\"Calculates density of g for theta = (x,y). Assume z = 0.\"\"\"\n",
    "    return exp(-abs(x-z)/(2**0.5)) - exp(-abs(y-z)/(2**0.5))\n",
    "    \n",
    "def f_density(x: float, y: float, z: float = 0): #PROBLEM: this is density!\n",
    "    \"\"\"Calculates density of f for theta = (x,y). Assume z = 0.\"\"\"\n",
    "    if x>=y: return 0\n",
    "    return exp(-abs((x-z)*(y-z)) - max(abs(x-z),abs(y-z)))"
   ]
  },
  {
   "cell_type": "code",
   "execution_count": 321,
   "id": "whole-redhead",
   "metadata": {},
   "outputs": [
    {
     "data": {
      "text/plain": [
       "(1.0, 0.03366109771604264, 0.11080315836233387)"
      ]
     },
     "execution_count": 321,
     "metadata": {},
     "output_type": "execute_result"
    }
   ],
   "source": [
    "x,y = 1,1.1\n",
    "exp(0),g_density(x,y),f_density(x,y)"
   ]
  },
  {
   "cell_type": "code",
   "execution_count": 4,
   "id": "elementary-abuse",
   "metadata": {},
   "outputs": [
    {
     "data": {
      "text/plain": [
       "(array([1.3000e+01, 1.0000e+02, 9.5700e+02, 1.1376e+04, 7.0253e+04,\n",
       "        1.5843e+04, 1.3200e+03, 1.2100e+02, 1.6000e+01, 1.0000e+00]),\n",
       " array([-0.01116499, -0.00872156, -0.00627813, -0.0038347 , -0.00139127,\n",
       "         0.00105216,  0.00349559,  0.00593903,  0.00838246,  0.01082589,\n",
       "         0.01326932]),\n",
       " <BarContainer object of 10 artists>)"
      ]
     },
     "execution_count": 4,
     "metadata": {},
     "output_type": "execute_result"
    },
    {
     "data": {
      "image/png": "[encoded data removed]",
      "text/plain": [
       "<Figure size 432x288 with 1 Axes>"
      ]
     },
     "metadata": {
      "needs_background": "light"
     },
     "output_type": "display_data"
    }
   ],
   "source": [
    "scaled_laplace_samples = [slaplace() for _ in range(100000)]\n",
    "plt.hist(scaled_laplace_samples, bins = 10)"
   ]
  },
  {
   "cell_type": "code",
   "execution_count": 5,
   "id": "enclosed-string",
   "metadata": {},
   "outputs": [
    {
     "data": {
      "text/plain": [
       "(array([9.0000e+00, 5.6000e+01, 4.9200e+02, 4.3650e+03, 3.8747e+04,\n",
       "        4.9919e+04, 5.7410e+03, 5.9000e+02, 7.2000e+01, 9.0000e+00]),\n",
       " array([-31.43650305, -25.2224326 , -19.00836215, -12.7942917 ,\n",
       "         -6.58022125,  -0.3661508 ,   5.84791965,  12.0619901 ,\n",
       "         18.27606055,  24.49013101,  30.70420146]),\n",
       " <BarContainer object of 10 artists>)"
      ]
     },
     "execution_count": 5,
     "metadata": {},
     "output_type": "execute_result"
    },
    {
     "data": {
      "image/png": "[encoded data removed]",
      "text/plain": [
       "<Figure size 432x288 with 1 Axes>"
      ]
     },
     "metadata": {
      "needs_background": "light"
     },
     "output_type": "display_data"
    }
   ],
   "source": [
    "laplace_samples = [laplace(0, 2*(2**0.5)) for _ in range(100000)]\n",
    "plt.hist(laplace_samples, bins = 10)"
   ]
  },
  {
   "cell_type": "markdown",
   "id": "desperate-network",
   "metadata": {},
   "source": [
    "As a quick sanity check, we can see that our Laplace sampling function generates the same shape as Numpy's Laplace sampler."
   ]
  },
  {
   "cell_type": "markdown",
   "id": "unsigned-service",
   "metadata": {},
   "source": [
    "### A Valid Envelope"
   ]
  },
  {
   "cell_type": "code",
   "execution_count": 315,
   "id": "dutch-agriculture",
   "metadata": {},
   "outputs": [
    {
     "data": {
      "text/plain": [
       "Text(0.5, 1.0, 'Domains of F (Above Blue) and G (Above Red)')"
      ]
     },
     "execution_count": 315,
     "metadata": {},
     "output_type": "execute_result"
    },
    {
     "data": {
      "image/png": "[encoded data removed]",
      "text/plain": [
       "<Figure size 432x288 with 1 Axes>"
      ]
     },
     "metadata": {
      "needs_background": "light"
     },
     "output_type": "display_data"
    }
   ],
   "source": [
    "plt.plot(range(100))\n",
    "plt.axhline(y = 50, color = 'red')\n",
    "plt.title(\"Domains of F (Above Blue) and G (Above Red)\")"
   ]
  },
  {
   "cell_type": "markdown",
   "id": "sensitive-hypothetical",
   "metadata": {},
   "source": [
    "To prove that g (or some scaling of g) is a valid envelope for f, we must prove two things: that g's domain spans the domain of f, and that g majorizes f.\n",
    "- g's domain spans the domain of f because g's domain is a rotation of f's domain (as shown in the plot above). g's domain encompasses all real numbers above Y=0, whereas f's domain encompasses all real numbers where X>Y. The bivariate density of f when x = (x-y)/sqrt(2), y = (x+y)/sqrt(2) rotates f's domain such that g spans f's domain.\n",
    "- exp(abs(z))\\*g majorizes f because for all x, y, and z, exp(abs(z))\\*g is greater than f."
   ]
  },
  {
   "cell_type": "markdown",
   "id": "latest-independence",
   "metadata": {},
   "source": [
    "### Rejection Sampling for F"
   ]
  },
  {
   "cell_type": "code",
   "execution_count": 161,
   "id": "quick-vacuum",
   "metadata": {},
   "outputs": [],
   "source": [
    "z = 0\n",
    "M = exp(z)\n",
    "\n",
    "def mh_step(theta: tuple):\n",
    "    \"\"\"Implements one step of the Metropolis-Hastings algorithm.\"\"\"\n",
    "    x_curr,y_curr = theta\n",
    "    x_prop,y_prop = g(x_curr,y_curr) #sample s from g(s)\n",
    "    \n",
    "    accept_prob = min(f_density(x_prop,y_prop)/f_density(x_curr,y_curr),1) #accept with probability f(s)/g(s)+M\n",
    "    return {'accepted': accept_prob >= uniform(), 'value': (x_prop,y_prop), 'accept_prob': accept_prob}\n",
    "\n",
    "def mh(n_samples: int, n_burn: int, start_params: tuple=(1,1.1), n_lag: int=1):\n",
    "    \"\"\"Implements the Metropolis-Hastings algorithm.\"\"\"\n",
    "    results = []\n",
    "    lag_count = 0\n",
    "    curr_params = start_params\n",
    "    for _ in range(n_burn): #burn-in period, results aren't saved\n",
    "        result = mh_step(curr_params)\n",
    "        if result['accepted']:\n",
    "            curr_params = result['value']\n",
    "    for _ in range(n_samples):\n",
    "        for _ in range(n_lag):\n",
    "            result = mh_step(curr_params)\n",
    "            if result['accepted']:\n",
    "                curr_params = result['value']\n",
    "        results.append(result)\n",
    "    return results"
   ]
  },
  {
   "cell_type": "code",
   "execution_count": 202,
   "id": "impossible-raleigh",
   "metadata": {},
   "outputs": [
    {
     "data": {
      "text/plain": [
       "{'accepted': True,\n",
       " 'value': (-0.357486692334082, 2.4489366915086617),\n",
       " 'accept_prob': 0.7229617454421022}"
      ]
     },
     "execution_count": 202,
     "metadata": {},
     "output_type": "execute_result"
    }
   ],
   "source": [
    "mh_step((0,3))"
   ]
  },
  {
   "cell_type": "code",
   "execution_count": 207,
   "id": "eleven-likelihood",
   "metadata": {},
   "outputs": [
    {
     "data": {
      "text/plain": [
       "[{'accepted': False,\n",
       "  'value': (-1.4231014902409465, 3.5492972187262914),\n",
       "  'accept_prob': 0.0005451560004269895},\n",
       " {'accepted': False,\n",
       "  'value': (-1.0539443639071604, 3.3647286696991294),\n",
       "  'accept_prob': 0.0029525187122573294},\n",
       " {'accepted': False,\n",
       "  'value': (0.9602751728916273, 0.28481369320347294),\n",
       "  'accept_prob': 0.0},\n",
       " {'accepted': False,\n",
       "  'value': (2.4193110723131186, 1.752784670804966),\n",
       "  'accept_prob': 0.0},\n",
       " {'accepted': False,\n",
       "  'value': (0.8022050814291478, 0.2503931938609887),\n",
       "  'accept_prob': 0.0}]"
      ]
     },
     "execution_count": 207,
     "metadata": {},
     "output_type": "execute_result"
    }
   ],
   "source": [
    "results = mh(10000, 1000, (0,1))\n",
    "results[:5]"
   ]
  },
  {
   "cell_type": "code",
   "execution_count": 233,
   "id": "grateful-wrong",
   "metadata": {
    "scrolled": true
   },
   "outputs": [
    {
     "data": {
      "text/html": [
       "<div>\n",
       "<style scoped>\n",
       "    .dataframe tbody tr th:only-of-type {\n",
       "        vertical-align: middle;\n",
       "    }\n",
       "\n",
       "    .dataframe tbody tr th {\n",
       "        vertical-align: top;\n",
       "    }\n",
       "\n",
       "    .dataframe thead th {\n",
       "        text-align: right;\n",
       "    }\n",
       "</style>\n",
       "<table border=\"1\" class=\"dataframe\">\n",
       "  <thead>\n",
       "    <tr style=\"text-align: right;\">\n",
       "      <th></th>\n",
       "      <th>accepted</th>\n",
       "      <th>value</th>\n",
       "      <th>accept_prob</th>\n",
       "      <th>X</th>\n",
       "      <th>Y</th>\n",
       "    </tr>\n",
       "  </thead>\n",
       "  <tbody>\n",
       "    <tr>\n",
       "      <th>0</th>\n",
       "      <td>False</td>\n",
       "      <td>(0.9605200313912305, 0.2836057176003952)</td>\n",
       "      <td>0.000000</td>\n",
       "      <td>0.960520</td>\n",
       "      <td>0.283606</td>\n",
       "    </tr>\n",
       "    <tr>\n",
       "      <th>1</th>\n",
       "      <td>True</td>\n",
       "      <td>(-0.4124002083322281, 0.17500370618753025)</td>\n",
       "      <td>1.000000</td>\n",
       "      <td>-0.412400</td>\n",
       "      <td>0.175004</td>\n",
       "    </tr>\n",
       "    <tr>\n",
       "      <th>2</th>\n",
       "      <td>True</td>\n",
       "      <td>(-0.13805562394211324, 0.25360107506288193)</td>\n",
       "      <td>1.000000</td>\n",
       "      <td>-0.138056</td>\n",
       "      <td>0.253601</td>\n",
       "    </tr>\n",
       "    <tr>\n",
       "      <th>3</th>\n",
       "      <td>False</td>\n",
       "      <td>(-0.3722791574428971, 1.8484968565428281)</td>\n",
       "      <td>0.105606</td>\n",
       "      <td>-0.372279</td>\n",
       "      <td>1.848497</td>\n",
       "    </tr>\n",
       "    <tr>\n",
       "      <th>4</th>\n",
       "      <td>False</td>\n",
       "      <td>(1.183486901786634, 1.700089790813487)</td>\n",
       "      <td>0.032598</td>\n",
       "      <td>1.183487</td>\n",
       "      <td>1.700090</td>\n",
       "    </tr>\n",
       "    <tr>\n",
       "      <th>...</th>\n",
       "      <td>...</td>\n",
       "      <td>...</td>\n",
       "      <td>...</td>\n",
       "      <td>...</td>\n",
       "      <td>...</td>\n",
       "    </tr>\n",
       "    <tr>\n",
       "      <th>9995</th>\n",
       "      <td>False</td>\n",
       "      <td>(0.326920666750127, 0.06363981445291991)</td>\n",
       "      <td>0.000000</td>\n",
       "      <td>0.326921</td>\n",
       "      <td>0.063640</td>\n",
       "    </tr>\n",
       "    <tr>\n",
       "      <th>9996</th>\n",
       "      <td>False</td>\n",
       "      <td>(-2.039939119515622, 1.987198301682801)</td>\n",
       "      <td>0.014131</td>\n",
       "      <td>-2.039939</td>\n",
       "      <td>1.987198</td>\n",
       "    </tr>\n",
       "    <tr>\n",
       "      <th>9997</th>\n",
       "      <td>True</td>\n",
       "      <td>(-0.5741539131959635, 0.01628838913792391)</td>\n",
       "      <td>1.000000</td>\n",
       "      <td>-0.574154</td>\n",
       "      <td>0.016288</td>\n",
       "    </tr>\n",
       "    <tr>\n",
       "      <th>9998</th>\n",
       "      <td>False</td>\n",
       "      <td>(2.4140209988296726, 0.4927188105701264)</td>\n",
       "      <td>0.000000</td>\n",
       "      <td>2.414021</td>\n",
       "      <td>0.492719</td>\n",
       "    </tr>\n",
       "    <tr>\n",
       "      <th>9999</th>\n",
       "      <td>False</td>\n",
       "      <td>(-1.1223883444651865, 2.309680181412871)</td>\n",
       "      <td>0.013319</td>\n",
       "      <td>-1.122388</td>\n",
       "      <td>2.309680</td>\n",
       "    </tr>\n",
       "  </tbody>\n",
       "</table>\n",
       "<p>10000 rows × 5 columns</p>\n",
       "</div>"
      ],
      "text/plain": [
       "      accepted                                        value  accept_prob  \\\n",
       "0        False     (0.9605200313912305, 0.2836057176003952)     0.000000   \n",
       "1         True   (-0.4124002083322281, 0.17500370618753025)     1.000000   \n",
       "2         True  (-0.13805562394211324, 0.25360107506288193)     1.000000   \n",
       "3        False    (-0.3722791574428971, 1.8484968565428281)     0.105606   \n",
       "4        False       (1.183486901786634, 1.700089790813487)     0.032598   \n",
       "...        ...                                          ...          ...   \n",
       "9995     False     (0.326920666750127, 0.06363981445291991)     0.000000   \n",
       "9996     False      (-2.039939119515622, 1.987198301682801)     0.014131   \n",
       "9997      True   (-0.5741539131959635, 0.01628838913792391)     1.000000   \n",
       "9998     False     (2.4140209988296726, 0.4927188105701264)     0.000000   \n",
       "9999     False     (-1.1223883444651865, 2.309680181412871)     0.013319   \n",
       "\n",
       "             X         Y  \n",
       "0     0.960520  0.283606  \n",
       "1    -0.412400  0.175004  \n",
       "2    -0.138056  0.253601  \n",
       "3    -0.372279  1.848497  \n",
       "4     1.183487  1.700090  \n",
       "...        ...       ...  \n",
       "9995  0.326921  0.063640  \n",
       "9996 -2.039939  1.987198  \n",
       "9997 -0.574154  0.016288  \n",
       "9998  2.414021  0.492719  \n",
       "9999 -1.122388  2.309680  \n",
       "\n",
       "[10000 rows x 5 columns]"
      ]
     },
     "execution_count": 233,
     "metadata": {},
     "output_type": "execute_result"
    }
   ],
   "source": [
    "df = pd.DataFrame(results)\n",
    "df[['X', 'Y']] = pd.DataFrame(df['value'].tolist(), index=df.index)\n",
    "df"
   ]
  },
  {
   "cell_type": "code",
   "execution_count": 209,
   "id": "original-anatomy",
   "metadata": {
    "scrolled": true
   },
   "outputs": [
    {
     "data": {
      "text/plain": [
       "(array([[0., 0., 0., ..., 0., 0., 0.],\n",
       "        [0., 0., 0., ..., 0., 0., 0.],\n",
       "        [0., 0., 0., ..., 0., 0., 0.],\n",
       "        ...,\n",
       "        [0., 0., 0., ..., 0., 0., 0.],\n",
       "        [0., 0., 0., ..., 0., 0., 0.],\n",
       "        [0., 0., 0., ..., 0., 0., 0.]]),\n",
       " array([-10.49753693, -10.29322206, -10.08890718,  -9.88459231,\n",
       "         -9.68027744,  -9.47596256,  -9.27164769,  -9.06733282,\n",
       "         -8.86301794,  -8.65870307,  -8.4543882 ,  -8.25007332,\n",
       "         -8.04575845,  -7.84144358,  -7.6371287 ,  -7.43281383,\n",
       "         -7.22849895,  -7.02418408,  -6.81986921,  -6.61555433,\n",
       "         -6.41123946,  -6.20692459,  -6.00260971,  -5.79829484,\n",
       "         -5.59397997,  -5.38966509,  -5.18535022,  -4.98103535,\n",
       "         -4.77672047,  -4.5724056 ,  -4.36809072,  -4.16377585,\n",
       "         -3.95946098,  -3.7551461 ,  -3.55083123,  -3.34651636,\n",
       "         -3.14220148,  -2.93788661,  -2.73357174,  -2.52925686,\n",
       "         -2.32494199,  -2.12062711,  -1.91631224,  -1.71199737,\n",
       "         -1.50768249,  -1.30336762,  -1.09905275,  -0.89473787,\n",
       "         -0.690423  ,  -0.48610813,  -0.28179325,  -0.07747838,\n",
       "          0.12683649,   0.33115137,   0.53546624,   0.73978112,\n",
       "          0.94409599,   1.14841086,   1.35272574,   1.55704061,\n",
       "          1.76135548,   1.96567036,   2.16998523,   2.3743001 ,\n",
       "          2.57861498,   2.78292985,   2.98724472,   3.1915596 ,\n",
       "          3.39587447,   3.60018935,   3.80450422,   4.00881909,\n",
       "          4.21313397,   4.41744884,   4.62176371,   4.82607859,\n",
       "          5.03039346,   5.23470833,   5.43902321,   5.64333808,\n",
       "          5.84765296,   6.05196783,   6.2562827 ,   6.46059758,\n",
       "          6.66491245,   6.86922732,   7.0735422 ,   7.27785707,\n",
       "          7.48217194,   7.68648682,   7.89080169,   8.09511656,\n",
       "          8.29943144,   8.50374631,   8.70806119,   8.91237606,\n",
       "          9.11669093,   9.32100581,   9.52532068,   9.72963555,\n",
       "          9.93395043]),\n",
       " array([3.57361516e-04, 9.48465678e-02, 1.89335774e-01, 2.83824981e-01,\n",
       "        3.78314187e-01, 4.72803393e-01, 5.67292600e-01, 6.61781806e-01,\n",
       "        7.56271012e-01, 8.50760219e-01, 9.45249425e-01, 1.03973863e+00,\n",
       "        1.13422784e+00, 1.22871704e+00, 1.32320625e+00, 1.41769546e+00,\n",
       "        1.51218466e+00, 1.60667387e+00, 1.70116308e+00, 1.79565228e+00,\n",
       "        1.89014149e+00, 1.98463069e+00, 2.07911990e+00, 2.17360911e+00,\n",
       "        2.26809831e+00, 2.36258752e+00, 2.45707673e+00, 2.55156593e+00,\n",
       "        2.64605514e+00, 2.74054435e+00, 2.83503355e+00, 2.92952276e+00,\n",
       "        3.02401196e+00, 3.11850117e+00, 3.21299038e+00, 3.30747958e+00,\n",
       "        3.40196879e+00, 3.49645800e+00, 3.59094720e+00, 3.68543641e+00,\n",
       "        3.77992561e+00, 3.87441482e+00, 3.96890403e+00, 4.06339323e+00,\n",
       "        4.15788244e+00, 4.25237165e+00, 4.34686085e+00, 4.44135006e+00,\n",
       "        4.53583927e+00, 4.63032847e+00, 4.72481768e+00, 4.81930688e+00,\n",
       "        4.91379609e+00, 5.00828530e+00, 5.10277450e+00, 5.19726371e+00,\n",
       "        5.29175292e+00, 5.38624212e+00, 5.48073133e+00, 5.57522054e+00,\n",
       "        5.66970974e+00, 5.76419895e+00, 5.85868815e+00, 5.95317736e+00,\n",
       "        6.04766657e+00, 6.14215577e+00, 6.23664498e+00, 6.33113419e+00,\n",
       "        6.42562339e+00, 6.52011260e+00, 6.61460180e+00, 6.70909101e+00,\n",
       "        6.80358022e+00, 6.89806942e+00, 6.99255863e+00, 7.08704784e+00,\n",
       "        7.18153704e+00, 7.27602625e+00, 7.37051546e+00, 7.46500466e+00,\n",
       "        7.55949387e+00, 7.65398307e+00, 7.74847228e+00, 7.84296149e+00,\n",
       "        7.93745069e+00, 8.03193990e+00, 8.12642911e+00, 8.22091831e+00,\n",
       "        8.31540752e+00, 8.40989673e+00, 8.50438593e+00, 8.59887514e+00,\n",
       "        8.69336434e+00, 8.78785355e+00, 8.88234276e+00, 8.97683196e+00,\n",
       "        9.07132117e+00, 9.16581038e+00, 9.26029958e+00, 9.35478879e+00,\n",
       "        9.44927799e+00]),\n",
       " <matplotlib.collections.QuadMesh at 0x186fcaf9fd0>)"
      ]
     },
     "execution_count": 209,
     "metadata": {},
     "output_type": "execute_result"
    },
    {
     "data": {
      "image/png": "[encoded data removed]",
      "text/plain": [
       "<Figure size 432x288 with 1 Axes>"
      ]
     },
     "metadata": {
      "needs_background": "light"
     },
     "output_type": "display_data"
    }
   ],
   "source": [
    "plt.hist2d(df['X'],df['Y'], bins = 100)"
   ]
  },
  {
   "cell_type": "code",
   "execution_count": 210,
   "id": "expressed-stroke",
   "metadata": {},
   "outputs": [
    {
     "data": {
      "text/plain": [
       "(array([4365.,  843.,  621.,  512.,  435.,  363.,  311.,  282.,  261.,\n",
       "        2007.]),\n",
       " array([0. , 0.1, 0.2, 0.3, 0.4, 0.5, 0.6, 0.7, 0.8, 0.9, 1. ]),\n",
       " <BarContainer object of 10 artists>)"
      ]
     },
     "execution_count": 210,
     "metadata": {},
     "output_type": "execute_result"
    },
    {
     "data": {
      "image/png": "[encoded data removed]",
      "text/plain": [
       "<Figure size 432x288 with 1 Axes>"
      ]
     },
     "metadata": {
      "needs_background": "light"
     },
     "output_type": "display_data"
    }
   ],
   "source": [
    "plt.hist(df['accept_prob'])"
   ]
  },
  {
   "cell_type": "markdown",
   "id": "convenient-louis",
   "metadata": {},
   "source": [
    "Our Metropolis-Hastings algorithm looks good! We see that X looks like a typical Laplace distribution and Y is similar but cut off. Out of curiosity, will we still see convergence even if we try from many directions?"
   ]
  },
  {
   "cell_type": "code",
   "execution_count": 225,
   "id": "virgin-norwegian",
   "metadata": {
    "scrolled": true
   },
   "outputs": [
    {
     "data": {
      "image/png": "[encoded data removed]",
      "text/plain": [
       "<Figure size 432x288 with 1 Axes>"
      ]
     },
     "metadata": {
      "needs_background": "light"
     },
     "output_type": "display_data"
    },
    {
     "data": {
      "image/png": "[encoded data removed]",
      "text/plain": [
       "<Figure size 432x288 with 1 Axes>"
      ]
     },
     "metadata": {
      "needs_background": "light"
     },
     "output_type": "display_data"
    },
    {
     "data": {
      "image/png": "[encoded data removed]",
      "text/plain": [
       "<Figure size 432x288 with 1 Axes>"
      ]
     },
     "metadata": {
      "needs_background": "light"
     },
     "output_type": "display_data"
    },
    {
     "data": {
      "image/png": "[encoded data removed]",
      "text/plain": [
       "<Figure size 432x288 with 1 Axes>"
      ]
     },
     "metadata": {
      "needs_background": "light"
     },
     "output_type": "display_data"
    }
   ],
   "source": [
    "for start in [(0,3),(15,28),(0.001,0.01),(-1,0)]:\n",
    "    results = mh(10000, 1000, start)\n",
    "    df = pd.DataFrame(results)\n",
    "    df[['X', 'Y']] = pd.DataFrame(df['value'].tolist(), index=df.index)\n",
    "    plt.hist2d(df['X'],df['Y'], bins = 100)\n",
    "    plt.title(f\"Estimation from {start}\")\n",
    "    plt.show()"
   ]
  },
  {
   "cell_type": "markdown",
   "id": "educational-sweden",
   "metadata": {},
   "source": [
    "Looks like the answer is yes!"
   ]
  },
  {
   "cell_type": "code",
   "execution_count": 235,
   "id": "refined-seating",
   "metadata": {},
   "outputs": [
    {
     "data": {
      "text/html": [
       "<div>\n",
       "<style scoped>\n",
       "    .dataframe tbody tr th:only-of-type {\n",
       "        vertical-align: middle;\n",
       "    }\n",
       "\n",
       "    .dataframe tbody tr th {\n",
       "        vertical-align: top;\n",
       "    }\n",
       "\n",
       "    .dataframe thead th {\n",
       "        text-align: right;\n",
       "    }\n",
       "</style>\n",
       "<table border=\"1\" class=\"dataframe\">\n",
       "  <thead>\n",
       "    <tr style=\"text-align: right;\">\n",
       "      <th></th>\n",
       "      <th>accepted</th>\n",
       "      <th>value</th>\n",
       "      <th>accept_prob</th>\n",
       "      <th>X</th>\n",
       "      <th>Y</th>\n",
       "    </tr>\n",
       "  </thead>\n",
       "  <tbody>\n",
       "    <tr>\n",
       "      <th>1</th>\n",
       "      <td>True</td>\n",
       "      <td>(-0.4124002083322281, 0.17500370618753025)</td>\n",
       "      <td>1.000000</td>\n",
       "      <td>-0.412400</td>\n",
       "      <td>0.175004</td>\n",
       "    </tr>\n",
       "    <tr>\n",
       "      <th>2</th>\n",
       "      <td>True</td>\n",
       "      <td>(-0.13805562394211324, 0.25360107506288193)</td>\n",
       "      <td>1.000000</td>\n",
       "      <td>-0.138056</td>\n",
       "      <td>0.253601</td>\n",
       "    </tr>\n",
       "    <tr>\n",
       "      <th>5</th>\n",
       "      <td>True</td>\n",
       "      <td>(0.16654816962625119, 0.19143722868905633)</td>\n",
       "      <td>1.000000</td>\n",
       "      <td>0.166548</td>\n",
       "      <td>0.191437</td>\n",
       "    </tr>\n",
       "    <tr>\n",
       "      <th>8</th>\n",
       "      <td>True</td>\n",
       "      <td>(-0.089897798947767, 1.8921299730515075)</td>\n",
       "      <td>0.158991</td>\n",
       "      <td>-0.089898</td>\n",
       "      <td>1.892130</td>\n",
       "    </tr>\n",
       "    <tr>\n",
       "      <th>9</th>\n",
       "      <td>True</td>\n",
       "      <td>(0.3546663457760282, 2.0119420960655536)</td>\n",
       "      <td>0.515158</td>\n",
       "      <td>0.354666</td>\n",
       "      <td>2.011942</td>\n",
       "    </tr>\n",
       "    <tr>\n",
       "      <th>...</th>\n",
       "      <td>...</td>\n",
       "      <td>...</td>\n",
       "      <td>...</td>\n",
       "      <td>...</td>\n",
       "      <td>...</td>\n",
       "    </tr>\n",
       "    <tr>\n",
       "      <th>9983</th>\n",
       "      <td>True</td>\n",
       "      <td>(-0.34678646662840507, 1.701507390513302)</td>\n",
       "      <td>1.000000</td>\n",
       "      <td>-0.346786</td>\n",
       "      <td>1.701507</td>\n",
       "    </tr>\n",
       "    <tr>\n",
       "      <th>9986</th>\n",
       "      <td>True</td>\n",
       "      <td>(-0.22319049594865187, 1.6379683192281163)</td>\n",
       "      <td>1.000000</td>\n",
       "      <td>-0.223190</td>\n",
       "      <td>1.637968</td>\n",
       "    </tr>\n",
       "    <tr>\n",
       "      <th>9993</th>\n",
       "      <td>True</td>\n",
       "      <td>(-1.4441745287422223, 1.0207890779087987)</td>\n",
       "      <td>0.400587</td>\n",
       "      <td>-1.444175</td>\n",
       "      <td>1.020789</td>\n",
       "    </tr>\n",
       "    <tr>\n",
       "      <th>9994</th>\n",
       "      <td>True</td>\n",
       "      <td>(-1.4869722779644472, 0.23357536575958604)</td>\n",
       "      <td>1.000000</td>\n",
       "      <td>-1.486972</td>\n",
       "      <td>0.233575</td>\n",
       "    </tr>\n",
       "    <tr>\n",
       "      <th>9997</th>\n",
       "      <td>True</td>\n",
       "      <td>(-0.5741539131959635, 0.01628838913792391)</td>\n",
       "      <td>1.000000</td>\n",
       "      <td>-0.574154</td>\n",
       "      <td>0.016288</td>\n",
       "    </tr>\n",
       "  </tbody>\n",
       "</table>\n",
       "<p>3633 rows × 5 columns</p>\n",
       "</div>"
      ],
      "text/plain": [
       "      accepted                                        value  accept_prob  \\\n",
       "1         True   (-0.4124002083322281, 0.17500370618753025)     1.000000   \n",
       "2         True  (-0.13805562394211324, 0.25360107506288193)     1.000000   \n",
       "5         True   (0.16654816962625119, 0.19143722868905633)     1.000000   \n",
       "8         True     (-0.089897798947767, 1.8921299730515075)     0.158991   \n",
       "9         True     (0.3546663457760282, 2.0119420960655536)     0.515158   \n",
       "...        ...                                          ...          ...   \n",
       "9983      True    (-0.34678646662840507, 1.701507390513302)     1.000000   \n",
       "9986      True   (-0.22319049594865187, 1.6379683192281163)     1.000000   \n",
       "9993      True    (-1.4441745287422223, 1.0207890779087987)     0.400587   \n",
       "9994      True   (-1.4869722779644472, 0.23357536575958604)     1.000000   \n",
       "9997      True   (-0.5741539131959635, 0.01628838913792391)     1.000000   \n",
       "\n",
       "             X         Y  \n",
       "1    -0.412400  0.175004  \n",
       "2    -0.138056  0.253601  \n",
       "5     0.166548  0.191437  \n",
       "8    -0.089898  1.892130  \n",
       "9     0.354666  2.011942  \n",
       "...        ...       ...  \n",
       "9983 -0.346786  1.701507  \n",
       "9986 -0.223190  1.637968  \n",
       "9993 -1.444175  1.020789  \n",
       "9994 -1.486972  0.233575  \n",
       "9997 -0.574154  0.016288  \n",
       "\n",
       "[3633 rows x 5 columns]"
      ]
     },
     "execution_count": 235,
     "metadata": {},
     "output_type": "execute_result"
    }
   ],
   "source": [
    "target_df = df[df['accepted']]\n",
    "target_df"
   ]
  },
  {
   "cell_type": "code",
   "execution_count": 239,
   "id": "utility-wilderness",
   "metadata": {},
   "outputs": [
    {
     "data": {
      "text/plain": [
       "Text(0, 0.5, 'Y')"
      ]
     },
     "execution_count": 239,
     "metadata": {},
     "output_type": "execute_result"
    },
    {
     "data": {
      "image/png": "[encoded data removed]",
      "text/plain": [
       "<Figure size 432x288 with 1 Axes>"
      ]
     },
     "metadata": {
      "needs_background": "light"
     },
     "output_type": "display_data"
    }
   ],
   "source": [
    "plt.hist2d(target_df['X'],target_df['Y'], bins = 50)\n",
    "plt.title(\"Target Distribution\")\n",
    "plt.xlabel(\"X\")\n",
    "plt.ylabel(\"Y\")"
   ]
  },
  {
   "cell_type": "markdown",
   "id": "automatic-therapist",
   "metadata": {},
   "source": [
    "Look! We can see the x\\<y restriction imposed by our target function F represented graphically here."
   ]
  },
  {
   "cell_type": "code",
   "execution_count": 241,
   "id": "successful-baker",
   "metadata": {},
   "outputs": [
    {
     "data": {
      "text/html": [
       "<div>\n",
       "<style scoped>\n",
       "    .dataframe tbody tr th:only-of-type {\n",
       "        vertical-align: middle;\n",
       "    }\n",
       "\n",
       "    .dataframe tbody tr th {\n",
       "        vertical-align: top;\n",
       "    }\n",
       "\n",
       "    .dataframe thead th {\n",
       "        text-align: right;\n",
       "    }\n",
       "</style>\n",
       "<table border=\"1\" class=\"dataframe\">\n",
       "  <thead>\n",
       "    <tr style=\"text-align: right;\">\n",
       "      <th></th>\n",
       "      <th>accepted</th>\n",
       "      <th>value</th>\n",
       "      <th>accept_prob</th>\n",
       "      <th>X</th>\n",
       "      <th>Y</th>\n",
       "    </tr>\n",
       "  </thead>\n",
       "  <tbody>\n",
       "    <tr>\n",
       "      <th>0</th>\n",
       "      <td>False</td>\n",
       "      <td>(0.9605200313912305, 0.2836057176003952)</td>\n",
       "      <td>0.000000</td>\n",
       "      <td>0.960520</td>\n",
       "      <td>0.283606</td>\n",
       "    </tr>\n",
       "    <tr>\n",
       "      <th>3</th>\n",
       "      <td>False</td>\n",
       "      <td>(-0.3722791574428971, 1.8484968565428281)</td>\n",
       "      <td>0.105606</td>\n",
       "      <td>-0.372279</td>\n",
       "      <td>1.848497</td>\n",
       "    </tr>\n",
       "    <tr>\n",
       "      <th>4</th>\n",
       "      <td>False</td>\n",
       "      <td>(1.183486901786634, 1.700089790813487)</td>\n",
       "      <td>0.032598</td>\n",
       "      <td>1.183487</td>\n",
       "      <td>1.700090</td>\n",
       "    </tr>\n",
       "    <tr>\n",
       "      <th>6</th>\n",
       "      <td>False</td>\n",
       "      <td>(-2.780016407015304, 0.11514766665642613)</td>\n",
       "      <td>0.056314</td>\n",
       "      <td>-2.780016</td>\n",
       "      <td>0.115148</td>\n",
       "    </tr>\n",
       "    <tr>\n",
       "      <th>7</th>\n",
       "      <td>False</td>\n",
       "      <td>(-0.4870313196601308, 1.4857635151528625)</td>\n",
       "      <td>0.137236</td>\n",
       "      <td>-0.487031</td>\n",
       "      <td>1.485764</td>\n",
       "    </tr>\n",
       "    <tr>\n",
       "      <th>...</th>\n",
       "      <td>...</td>\n",
       "      <td>...</td>\n",
       "      <td>...</td>\n",
       "      <td>...</td>\n",
       "      <td>...</td>\n",
       "    </tr>\n",
       "    <tr>\n",
       "      <th>9992</th>\n",
       "      <td>False</td>\n",
       "      <td>(-0.49311433426655993, 2.9856913910105174)</td>\n",
       "      <td>0.085912</td>\n",
       "      <td>-0.493114</td>\n",
       "      <td>2.985691</td>\n",
       "    </tr>\n",
       "    <tr>\n",
       "      <th>9995</th>\n",
       "      <td>False</td>\n",
       "      <td>(0.326920666750127, 0.06363981445291991)</td>\n",
       "      <td>0.000000</td>\n",
       "      <td>0.326921</td>\n",
       "      <td>0.063640</td>\n",
       "    </tr>\n",
       "    <tr>\n",
       "      <th>9996</th>\n",
       "      <td>False</td>\n",
       "      <td>(-2.039939119515622, 1.987198301682801)</td>\n",
       "      <td>0.014131</td>\n",
       "      <td>-2.039939</td>\n",
       "      <td>1.987198</td>\n",
       "    </tr>\n",
       "    <tr>\n",
       "      <th>9998</th>\n",
       "      <td>False</td>\n",
       "      <td>(2.4140209988296726, 0.4927188105701264)</td>\n",
       "      <td>0.000000</td>\n",
       "      <td>2.414021</td>\n",
       "      <td>0.492719</td>\n",
       "    </tr>\n",
       "    <tr>\n",
       "      <th>9999</th>\n",
       "      <td>False</td>\n",
       "      <td>(-1.1223883444651865, 2.309680181412871)</td>\n",
       "      <td>0.013319</td>\n",
       "      <td>-1.122388</td>\n",
       "      <td>2.309680</td>\n",
       "    </tr>\n",
       "  </tbody>\n",
       "</table>\n",
       "<p>6367 rows × 5 columns</p>\n",
       "</div>"
      ],
      "text/plain": [
       "      accepted                                       value  accept_prob  \\\n",
       "0        False    (0.9605200313912305, 0.2836057176003952)     0.000000   \n",
       "3        False   (-0.3722791574428971, 1.8484968565428281)     0.105606   \n",
       "4        False      (1.183486901786634, 1.700089790813487)     0.032598   \n",
       "6        False   (-2.780016407015304, 0.11514766665642613)     0.056314   \n",
       "7        False   (-0.4870313196601308, 1.4857635151528625)     0.137236   \n",
       "...        ...                                         ...          ...   \n",
       "9992     False  (-0.49311433426655993, 2.9856913910105174)     0.085912   \n",
       "9995     False    (0.326920666750127, 0.06363981445291991)     0.000000   \n",
       "9996     False     (-2.039939119515622, 1.987198301682801)     0.014131   \n",
       "9998     False    (2.4140209988296726, 0.4927188105701264)     0.000000   \n",
       "9999     False    (-1.1223883444651865, 2.309680181412871)     0.013319   \n",
       "\n",
       "             X         Y  \n",
       "0     0.960520  0.283606  \n",
       "3    -0.372279  1.848497  \n",
       "4     1.183487  1.700090  \n",
       "6    -2.780016  0.115148  \n",
       "7    -0.487031  1.485764  \n",
       "...        ...       ...  \n",
       "9992 -0.493114  2.985691  \n",
       "9995  0.326921  0.063640  \n",
       "9996 -2.039939  1.987198  \n",
       "9998  2.414021  0.492719  \n",
       "9999 -1.122388  2.309680  \n",
       "\n",
       "[6367 rows x 5 columns]"
      ]
     },
     "execution_count": 241,
     "metadata": {},
     "output_type": "execute_result"
    }
   ],
   "source": [
    "misses_df = df[~df['accepted']]\n",
    "misses_df"
   ]
  },
  {
   "cell_type": "code",
   "execution_count": 242,
   "id": "deadly-gospel",
   "metadata": {},
   "outputs": [
    {
     "data": {
      "text/plain": [
       "Text(0, 0.5, 'Y')"
      ]
     },
     "execution_count": 242,
     "metadata": {},
     "output_type": "execute_result"
    },
    {
     "data": {
      "image/png": "[encoded data removed]",
      "text/plain": [
       "<Figure size 432x288 with 1 Axes>"
      ]
     },
     "metadata": {
      "needs_background": "light"
     },
     "output_type": "display_data"
    }
   ],
   "source": [
    "plt.hist2d(target_df['X'],target_df['Y'], bins = 50)\n",
    "plt.title(\"Distribution of Incorrect Guesses\")\n",
    "plt.xlabel(\"X\")\n",
    "plt.ylabel(\"Y\")"
   ]
  },
  {
   "cell_type": "markdown",
   "id": "certain-torture",
   "metadata": {},
   "source": [
    "Our densest area again draws our attention to our learning of the x\\<y rule!"
   ]
  },
  {
   "cell_type": "markdown",
   "id": "continuing-summit",
   "metadata": {},
   "source": [
    "## Gibbs Sampling"
   ]
  },
  {
   "cell_type": "code",
   "execution_count": 304,
   "id": "violent-belief",
   "metadata": {},
   "outputs": [],
   "source": [
    "def gibbs(n_samples: int, n_burns: int, start_params: tuple=(-1,1,0)):\n",
    "    d = {'x': [], 'y': [], 'z': []}\n",
    "\n",
    "    x,y,z = start_params\n",
    "    #burnin\n",
    "    for i in range(n_burns):\n",
    "        z = truncnorm.rvs(x,y) if x < y else truncnorm.rvs(y,x)\n",
    "        x,y = g(z,z)\n",
    "\n",
    "    #gather samples!\n",
    "    for i in range(n_samples):\n",
    "        z = truncnorm.rvs(x,y) if x < y else truncnorm.rvs(y,x)\n",
    "        x,y = g(z,z)\n",
    "        d['x'].append(x)\n",
    "        d['y'].append(y)\n",
    "        d['z'].append(z)\n",
    "        #print(f\"iteration #{i}: ({x},{y},{z})\")\n",
    "    \n",
    "    return pd.DataFrame(d)"
   ]
  },
  {
   "cell_type": "code",
   "execution_count": 305,
   "id": "mysterious-opening",
   "metadata": {},
   "outputs": [],
   "source": [
    "gibbs_df = gibbs(100000, 10000)"
   ]
  },
  {
   "cell_type": "code",
   "execution_count": 306,
   "id": "taken-haven",
   "metadata": {},
   "outputs": [
    {
     "data": {
      "text/html": [
       "<div>\n",
       "<style scoped>\n",
       "    .dataframe tbody tr th:only-of-type {\n",
       "        vertical-align: middle;\n",
       "    }\n",
       "\n",
       "    .dataframe tbody tr th {\n",
       "        vertical-align: top;\n",
       "    }\n",
       "\n",
       "    .dataframe thead th {\n",
       "        text-align: right;\n",
       "    }\n",
       "</style>\n",
       "<table border=\"1\" class=\"dataframe\">\n",
       "  <thead>\n",
       "    <tr style=\"text-align: right;\">\n",
       "      <th></th>\n",
       "      <th>x</th>\n",
       "      <th>y</th>\n",
       "      <th>z</th>\n",
       "    </tr>\n",
       "  </thead>\n",
       "  <tbody>\n",
       "    <tr>\n",
       "      <th>0</th>\n",
       "      <td>0.825875</td>\n",
       "      <td>0.173032</td>\n",
       "      <td>0.343816</td>\n",
       "    </tr>\n",
       "    <tr>\n",
       "      <th>1</th>\n",
       "      <td>-1.814420</td>\n",
       "      <td>1.797609</td>\n",
       "      <td>0.230873</td>\n",
       "    </tr>\n",
       "    <tr>\n",
       "      <th>2</th>\n",
       "      <td>-2.648324</td>\n",
       "      <td>0.055808</td>\n",
       "      <td>-0.319163</td>\n",
       "    </tr>\n",
       "    <tr>\n",
       "      <th>3</th>\n",
       "      <td>-2.264363</td>\n",
       "      <td>0.059844</td>\n",
       "      <td>-0.868747</td>\n",
       "    </tr>\n",
       "    <tr>\n",
       "      <th>4</th>\n",
       "      <td>-0.199882</td>\n",
       "      <td>1.507596</td>\n",
       "      <td>-0.536824</td>\n",
       "    </tr>\n",
       "    <tr>\n",
       "      <th>...</th>\n",
       "      <td>...</td>\n",
       "      <td>...</td>\n",
       "      <td>...</td>\n",
       "    </tr>\n",
       "    <tr>\n",
       "      <th>99995</th>\n",
       "      <td>1.454132</td>\n",
       "      <td>1.728137</td>\n",
       "      <td>1.510044</td>\n",
       "    </tr>\n",
       "    <tr>\n",
       "      <th>99996</th>\n",
       "      <td>6.869780</td>\n",
       "      <td>0.496574</td>\n",
       "      <td>1.716146</td>\n",
       "    </tr>\n",
       "    <tr>\n",
       "      <th>99997</th>\n",
       "      <td>2.085914</td>\n",
       "      <td>0.792705</td>\n",
       "      <td>0.695105</td>\n",
       "    </tr>\n",
       "    <tr>\n",
       "      <th>99998</th>\n",
       "      <td>0.197872</td>\n",
       "      <td>2.681977</td>\n",
       "      <td>1.083709</td>\n",
       "    </tr>\n",
       "    <tr>\n",
       "      <th>99999</th>\n",
       "      <td>1.993409</td>\n",
       "      <td>0.439885</td>\n",
       "      <td>1.225568</td>\n",
       "    </tr>\n",
       "  </tbody>\n",
       "</table>\n",
       "<p>100000 rows × 3 columns</p>\n",
       "</div>"
      ],
      "text/plain": [
       "              x         y         z\n",
       "0      0.825875  0.173032  0.343816\n",
       "1     -1.814420  1.797609  0.230873\n",
       "2     -2.648324  0.055808 -0.319163\n",
       "3     -2.264363  0.059844 -0.868747\n",
       "4     -0.199882  1.507596 -0.536824\n",
       "...         ...       ...       ...\n",
       "99995  1.454132  1.728137  1.510044\n",
       "99996  6.869780  0.496574  1.716146\n",
       "99997  2.085914  0.792705  0.695105\n",
       "99998  0.197872  2.681977  1.083709\n",
       "99999  1.993409  0.439885  1.225568\n",
       "\n",
       "[100000 rows x 3 columns]"
      ]
     },
     "execution_count": 306,
     "metadata": {},
     "output_type": "execute_result"
    }
   ],
   "source": [
    "gibbs_df"
   ]
  },
  {
   "cell_type": "code",
   "execution_count": 308,
   "id": "fatal-success",
   "metadata": {},
   "outputs": [
    {
     "data": {
      "text/plain": [
       "(array([[0., 0., 0., ..., 0., 0., 0.],\n",
       "        [0., 0., 0., ..., 0., 0., 0.],\n",
       "        [0., 1., 0., ..., 0., 0., 0.],\n",
       "        ...,\n",
       "        [0., 0., 0., ..., 0., 0., 0.],\n",
       "        [0., 0., 0., ..., 0., 0., 0.],\n",
       "        [0., 0., 0., ..., 0., 0., 0.]]),\n",
       " array([-9.51578225, -9.03328861, -8.55079497, -8.06830133, -7.58580768,\n",
       "        -7.10331404, -6.6208204 , -6.13832676, -5.65583312, -5.17333948,\n",
       "        -4.69084583, -4.20835219, -3.72585855, -3.24336491, -2.76087127,\n",
       "        -2.27837763, -1.79588398, -1.31339034, -0.8308967 , -0.34840306,\n",
       "         0.13409058,  0.61658422,  1.09907786,  1.58157151,  2.06406515,\n",
       "         2.54655879,  3.02905243,  3.51154607,  3.99403971,  4.47653336,\n",
       "         4.959027  ,  5.44152064,  5.92401428,  6.40650792,  6.88900156,\n",
       "         7.37149521,  7.85398885,  8.33648249,  8.81897613,  9.30146977,\n",
       "         9.78396341, 10.26645705, 10.7489507 , 11.23144434, 11.71393798,\n",
       "        12.19643162, 12.67892526, 13.1614189 , 13.64391255, 14.12640619,\n",
       "        14.60889983]),\n",
       " array([5.17077360e-05, 3.22430250e-01, 6.44808791e-01, 9.67187333e-01,\n",
       "        1.28956588e+00, 1.61194442e+00, 1.93432296e+00, 2.25670150e+00,\n",
       "        2.57908004e+00, 2.90145858e+00, 3.22383713e+00, 3.54621567e+00,\n",
       "        3.86859421e+00, 4.19097275e+00, 4.51335129e+00, 4.83572984e+00,\n",
       "        5.15810838e+00, 5.48048692e+00, 5.80286546e+00, 6.12524400e+00,\n",
       "        6.44762254e+00, 6.77000109e+00, 7.09237963e+00, 7.41475817e+00,\n",
       "        7.73713671e+00, 8.05951525e+00, 8.38189380e+00, 8.70427234e+00,\n",
       "        9.02665088e+00, 9.34902942e+00, 9.67140796e+00, 9.99378650e+00,\n",
       "        1.03161650e+01, 1.06385436e+01, 1.09609221e+01, 1.12833007e+01,\n",
       "        1.16056792e+01, 1.19280578e+01, 1.22504363e+01, 1.25728148e+01,\n",
       "        1.28951934e+01, 1.32175719e+01, 1.35399505e+01, 1.38623290e+01,\n",
       "        1.41847075e+01, 1.45070861e+01, 1.48294646e+01, 1.51518432e+01,\n",
       "        1.54742217e+01, 1.57966003e+01, 1.61189788e+01]),\n",
       " <matplotlib.collections.QuadMesh at 0x18710094760>)"
      ]
     },
     "execution_count": 308,
     "metadata": {},
     "output_type": "execute_result"
    },
    {
     "data": {
      "image/png": "[encoded data removed]",
      "text/plain": [
       "<Figure size 432x288 with 1 Axes>"
      ]
     },
     "metadata": {
      "needs_background": "light"
     },
     "output_type": "display_data"
    }
   ],
   "source": [
    "plt.hist2d(gibbs_df['x'],gibbs_df['y'], bins = 50)"
   ]
  },
  {
   "cell_type": "code",
   "execution_count": 307,
   "id": "rental-employer",
   "metadata": {},
   "outputs": [
    {
     "data": {
      "text/plain": [
       "<AxesSubplot:>"
      ]
     },
     "execution_count": 307,
     "metadata": {},
     "output_type": "execute_result"
    },
    {
     "data": {
      "image/png": "[encoded data removed]",
      "text/plain": [
       "<Figure size 432x288 with 1 Axes>"
      ]
     },
     "metadata": {
      "needs_background": "light"
     },
     "output_type": "display_data"
    }
   ],
   "source": [
    "gibbs_df['z'].hist()"
   ]
  },
  {
   "cell_type": "markdown",
   "id": "ceramic-calgary",
   "metadata": {},
   "source": [
    "These look great! However, we can already see one key distinction between Metropolis-Hastings and Gibbs sampling--Gibbs sampling does not reject samples. While our the distribution of our accepted samples in Metropolis-Hastings drew a sharp line on x = y, Gibbs sampling does not. The line does still show in Gibbs, but it isn't as precisely defined because there is no concept of rejection.\n",
    "\n",
    "Let's now explore how varying our starting point changes our results."
   ]
  },
  {
   "cell_type": "code",
   "execution_count": 314,
   "id": "suspended-impression",
   "metadata": {},
   "outputs": [
    {
     "data": {
      "image/png": "[encoded data removed]",
      "text/plain": [
       "<Figure size 432x288 with 1 Axes>"
      ]
     },
     "metadata": {
      "needs_background": "light"
     },
     "output_type": "display_data"
    },
    {
     "data": {
      "image/png": "[encoded data removed]",
      "text/plain": [
       "<Figure size 432x288 with 1 Axes>"
      ]
     },
     "metadata": {
      "needs_background": "light"
     },
     "output_type": "display_data"
    },
    {
     "data": {
      "image/png": "[encoded data removed]",
      "text/plain": [
       "<Figure size 432x288 with 1 Axes>"
      ]
     },
     "metadata": {
      "needs_background": "light"
     },
     "output_type": "display_data"
    },
    {
     "data": {
      "image/png": "[encoded data removed]",
      "text/plain": [
       "<Figure size 432x288 with 1 Axes>"
      ]
     },
     "metadata": {
      "needs_background": "light"
     },
     "output_type": "display_data"
    },
    {
     "data": {
      "image/png": "[encoded data removed]",
      "text/plain": [
       "<Figure size 432x288 with 1 Axes>"
      ]
     },
     "metadata": {
      "needs_background": "light"
     },
     "output_type": "display_data"
    },
    {
     "data": {
      "image/png": "[encoded data removed]",
      "text/plain": [
       "<Figure size 432x288 with 1 Axes>"
      ]
     },
     "metadata": {
      "needs_background": "light"
     },
     "output_type": "display_data"
    },
    {
     "data": {
      "image/png": "[encoded data removed]",
      "text/plain": [
       "<Figure size 432x288 with 1 Axes>"
      ]
     },
     "metadata": {
      "needs_background": "light"
     },
     "output_type": "display_data"
    },
    {
     "data": {
      "image/png": "[encoded data removed]",
      "text/plain": [
       "<Figure size 432x288 with 1 Axes>"
      ]
     },
     "metadata": {
      "needs_background": "light"
     },
     "output_type": "display_data"
    }
   ],
   "source": [
    "for start in [(-100,0,-50), (-10,10,5), (-1,1,0), (-0.0001,0.0001,0)]:\n",
    "    gibbs_df = gibbs(10000, 5000, start)\n",
    "    plt.hist2d(gibbs_df['x'],gibbs_df['y'], bins = 50)\n",
    "    plt.title(f\"X and Y for {start}\")\n",
    "    plt.xlabel(\"X\")\n",
    "    plt.ylabel(\"Y\")\n",
    "    plt.show()\n",
    "    gibbs_df['z'].hist()\n",
    "    plt.title(f\"Z for {start}\")\n",
    "    plt.xlabel(\"Z\")\n",
    "    plt.ylabel(\"Frequency\")\n",
    "    plt.show()"
   ]
  },
  {
   "cell_type": "markdown",
   "id": "russian-patrick",
   "metadata": {},
   "source": [
    "From the looks of things, in all four start cases Gibbs converges to the target distribution."
   ]
  }
 ],
 "metadata": {
  "kernelspec": {
   "display_name": "Python 3",
   "language": "python",
   "name": "python3"
  },
  "language_info": {
   "codemirror_mode": {
    "name": "ipython",
    "version": 3
   },
   "file_extension": ".py",
   "mimetype": "text/x-python",
   "name": "python",
   "nbconvert_exporter": "python",
   "pygments_lexer": "ipython3",
   "version": "3.8.7"
  }
 },
 "nbformat": 4,
 "nbformat_minor": 5
}
