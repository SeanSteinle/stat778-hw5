{
 "cells": [
  {
   "cell_type": "markdown",
   "id": "located-pharmacy",
   "metadata": {},
   "source": [
    "# STAT778: Homework 5\n",
    "*Sean Steinle*\n",
    "\n",
    "## Table of Contents\n",
    "1. [Inverse Transform Sampling and Metropolis-Hastings](#Inverse-Transform-Sampling-and-Metropolis-Hastings)\n",
    "    - [Inverse Transform Sampling for G](#Inverse-Transform-Sampling-for-G)\n",
    "    - [A Valid Envelope](#A-Valid-Envelope)\n",
    "    - [Rejection Sampling for F](#Rejection-Sampling-for-F)\n",
    "2. [Gibbs Sampling](#Gibbs-Sampling)"
   ]
  },
  {
   "cell_type": "markdown",
   "id": "native-negotiation",
   "metadata": {},
   "source": [
    "## Inverse Transform Sampling and Metropolis-Hastings"
   ]
  },
  {
   "cell_type": "markdown",
   "id": "colored-vault",
   "metadata": {},
   "source": [
    "### Inverse Transform Sampling for G"
   ]
  },
  {
   "cell_type": "markdown",
   "id": "secure-shore",
   "metadata": {},
   "source": [
    "Question 1a asks us to create a sampler for g.\n",
    "1. We can treat g(x,y|z) as two independent variables g(x|z) and g(y|z).\n",
    "2. Both g(x|z) and g(y|z) have the same functional form as each other. The only different is that x is distributed from (-inf,inf) while y is distributed from \\[0,inf).\n",
    "3. Both g(x|z) and g(y|z) have the same functional form as the Laplace distribution, where z is the location parameter and diversity is set sqrt(2). Note that g(x|z) amnd g(y|z) are scaled by a factor of 2*sqrt(2).\n",
    "4. Because we know the Laplace distribution has a closed-form inverse, we can use inverse transform sampling to generate random numbers of the same functional form as g(x|z) and g(y|z)."
   ]
  },
  {
   "cell_type": "code",
   "execution_count": 1,
   "id": "married-canon",
   "metadata": {},
   "outputs": [],
   "source": [
    "#imports\n",
    "import matplotlib.pyplot as plt\n",
    "import pandas as pd\n",
    "from numpy.random import uniform, normal, laplace\n",
    "from numpy import sign,linspace\n",
    "from math import exp, log"
   ]
  },
  {
   "cell_type": "code",
   "execution_count": 45,
   "id": "intermediate-humor",
   "metadata": {},
   "outputs": [],
   "source": [
    "def slaplace(z: float = 0, beta: float = 2 ** 0.5): \n",
    "    \"\"\"Generates samples from the Laplace distribution where z is the location parameter and beta is the diversity parameter.\"\"\"\n",
    "    u = uniform() #draw u, a float from [0,1]\n",
    "    sample = z - beta * sign(u - 0.5) * log(1 - 2 * abs(u - 0.5)) #transform u using inverse cdf of the laplace distribution\n",
    "    return sample * (2*(2**0.5)) #rescale sample\n",
    "\n",
    "def g(x: float, y: float):\n",
    "    \"\"\"Uses our Laplace sampler to sample from g.\"\"\"\n",
    "    x = slaplace(x)\n",
    "    posy = -1\n",
    "    while posy < 0:\n",
    "        posy = slaplace(y)\n",
    "    return x*y\n",
    "\n",
    "def g_density(x: float, y: float, z: float = 0):\n",
    "    \"\"\"Calculates density of g for theta = (x,y). Assume z = 0.\"\"\"\n",
    "    return exp(-abs(x-z)/(2**0.5)) - exp(-abs(y-z)/(2**0.5))\n",
    "    \n",
    "def f_density(x: float, y: float, z: float = 0): #PROBLEM: this is density!\n",
    "    \"\"\"Calculates density of f for theta = (x,y). Assume z = 0.\"\"\"\n",
    "    if x>=y: return 0\n",
    "    return exp(-abs((x-z)*(y-z)) - max(abs(x-z),abs(y-z)))"
   ]
  },
  {
   "cell_type": "code",
   "execution_count": 3,
   "id": "moderate-algeria",
   "metadata": {},
   "outputs": [
    {
     "data": {
      "text/plain": [
       "(array([1.7000e+01, 1.0800e+02, 7.9400e+02, 6.2510e+03, 5.0308e+04,\n",
       "        3.7255e+04, 4.6040e+03, 5.7800e+02, 7.7000e+01, 8.0000e+00]),\n",
       " array([-41.45161773, -33.03152156, -24.61142538, -16.1913292 ,\n",
       "         -7.77123302,   0.64886316,   9.06895934,  17.48905552,\n",
       "         25.90915169,  34.32924787,  42.74934405]),\n",
       " <BarContainer object of 10 artists>)"
      ]
     },
     "execution_count": 3,
     "metadata": {},
     "output_type": "execute_result"
    },
    {
     "data": {
      "image/png": "[encoded data removed]",
      "text/plain": [
       "<Figure size 432x288 with 1 Axes>"
      ]
     },
     "metadata": {
      "needs_background": "light"
     },
     "output_type": "display_data"
    }
   ],
   "source": [
    "scaled_laplace_samples = [slaplace() for _ in range(100000)]\n",
    "plt.hist(scaled_laplace_samples, bins = 10)"
   ]
  },
  {
   "cell_type": "code",
   "execution_count": 4,
   "id": "emotional-orlando",
   "metadata": {},
   "outputs": [
    {
     "data": {
      "text/plain": [
       "(array([2.0000e+00, 2.0000e+00, 2.5000e+01, 3.6500e+02, 4.9710e+03,\n",
       "        5.9789e+04, 3.2252e+04, 2.4000e+03, 1.8600e+02, 8.0000e+00]),\n",
       " array([-42.99404253, -35.65707575, -28.32010897, -20.98314219,\n",
       "        -13.64617541,  -6.30920863,   1.02775816,   8.36472494,\n",
       "         15.70169172,  23.0386585 ,  30.37562528]),\n",
       " <BarContainer object of 10 artists>)"
      ]
     },
     "execution_count": 4,
     "metadata": {},
     "output_type": "execute_result"
    },
    {
     "data": {
      "image/png": "[encoded data removed]",
      "text/plain": [
       "<Figure size 432x288 with 1 Axes>"
      ]
     },
     "metadata": {
      "needs_background": "light"
     },
     "output_type": "display_data"
    }
   ],
   "source": [
    "laplace_samples = [laplace(0, 2*(2**0.5)) for _ in range(100000)]\n",
    "plt.hist(laplace_samples, bins = 10)"
   ]
  },
  {
   "cell_type": "code",
   "execution_count": 5,
   "id": "behind-mouse",
   "metadata": {},
   "outputs": [
    {
     "data": {
      "text/plain": [
       "3.0793344230031656"
      ]
     },
     "execution_count": 5,
     "metadata": {},
     "output_type": "execute_result"
    }
   ],
   "source": [
    "slaplace(1)"
   ]
  },
  {
   "cell_type": "code",
   "execution_count": 6,
   "id": "outside-springer",
   "metadata": {},
   "outputs": [
    {
     "data": {
      "text/plain": [
       "[<matplotlib.lines.Line2D at 0x2791b54ecd0>]"
      ]
     },
     "execution_count": 6,
     "metadata": {},
     "output_type": "execute_result"
    },
    {
     "data": {
      "image/png": "[encoded data removed]",
      "text/plain": [
       "<Figure size 432x288 with 1 Axes>"
      ]
     },
     "metadata": {
      "needs_background": "light"
     },
     "output_type": "display_data"
    }
   ],
   "source": [
    "g_samples = [g(x,y) for x in range(-100,100) for y in range(100)]\n",
    "plt.plot(g_samples)"
   ]
  },
  {
   "cell_type": "markdown",
   "id": "suitable-ceremony",
   "metadata": {},
   "source": [
    "As a quick sanity check, we can see that our Laplace sampling function generates the same shape as Numpy's Laplace sampler. We can also see a run chart of samples from g()."
   ]
  },
  {
   "cell_type": "markdown",
   "id": "communist-rogers",
   "metadata": {},
   "source": [
    "### A Valid Envelope"
   ]
  },
  {
   "cell_type": "code",
   "execution_count": 7,
   "id": "still-reporter",
   "metadata": {},
   "outputs": [
    {
     "data": {
      "text/plain": [
       "Text(0.5, 1.0, 'Domains of F and G')"
      ]
     },
     "execution_count": 7,
     "metadata": {},
     "output_type": "execute_result"
    },
    {
     "data": {
      "image/png": "[encoded data removed]",
      "text/plain": [
       "<Figure size 432x288 with 1 Axes>"
      ]
     },
     "metadata": {
      "needs_background": "light"
     },
     "output_type": "display_data"
    }
   ],
   "source": [
    "plt.plot(range(100))\n",
    "plt.axhline(y = 50, color = 'red')\n",
    "plt.title(\"Domains of F and G\")"
   ]
  },
  {
   "cell_type": "markdown",
   "id": "british-cooperation",
   "metadata": {},
   "source": [
    "prove g majorizes f\n",
    "prove g's domain is the same as f's domain\n",
    "\n",
    "\n",
    "To prove that g (or some scaling of g) is a valid envelope for f, we must prove two things: that g's domain spans the domain of f, and that g majorizes.\n",
    "- g's domain spans the domain of f because g's domain is a rotation of f's domain (as shown in the plot above). g's domain encompasses all real numbers above Y=0, whereas f's domain encompasses all real numbers where X>Y. The bivariate density of f when x = (x-y)/sqrt(2), y = (x+y)/sqrt(2) rotates f's domain such that g spans f's domain.\n",
    "- exp(abs(z))\\*g majorizes f because...\n",
    "    - if x is further from z than y is...\n",
    "    - else...\n",
    "    TD there is some algebra to do here, ask Morgan"
   ]
  },
  {
   "cell_type": "markdown",
   "id": "looking-bermuda",
   "metadata": {},
   "source": [
    "POST OFFICE HOURS TO DO LIST:\n",
    "- 1a\n",
    "    - treat z as a constant\n",
    "    - factorize X and Y\n",
    "        - they are essentially the same thing too, but y's domain is different\n",
    "    - can figure out how to sample by googling how to sample laplace/double exponential\n",
    "        - exponential + coin flip (+ rejection < 0 for y)\n",
    "        - should check against np.random.laplace\n",
    "- 1b\n",
    "    - valid envelope if g's domain >= f and if g majorizes f.\n",
    "    - g's domain >= f because both are from -inf>inf and 0>inf for X and Y respectively. just a trivial shift of (xtilda-ytilda) for f\n",
    "    - e^|z|\\*g majorizes f because ...\n",
    "        - decompose max into two cases, makes things easier\n",
    "- 1c\n",
    "    - rejection sampling baby!\n",
    "    \n",
    "{\\displaystyle F^{-1}(p)=\\mu -b\\,\\operatorname {sgn}(p-0.5)\\,\\ln(1-2|p-0.5|).}"
   ]
  },
  {
   "cell_type": "markdown",
   "id": "linear-devon",
   "metadata": {},
   "source": [
    "### Rejection Sampling for F"
   ]
  },
  {
   "cell_type": "code",
   "execution_count": null,
   "id": "distant-intersection",
   "metadata": {},
   "outputs": [],
   "source": [
    "break"
   ]
  },
  {
   "cell_type": "code",
   "execution_count": 43,
   "id": "western-spice",
   "metadata": {},
   "outputs": [],
   "source": [
    "z = 0\n",
    "M = exp(z)\n",
    "\n",
    "def mh_step(theta: tuple):\n",
    "    x,y = theta\n",
    "    proposal = g(x,y) #sample s from g(s)\n",
    "    accept_prob = f_density(x,y)/(M+g_density(x,y)) #accept with probability f(s)/g(s)+M\n",
    "    print(f\"got accept prob {accept_prob} for pair ({x},{y})\")\n",
    "    return {'accepted': accept_prob > uniform(), 'value': proposal, 'accept_prob': accept_prob}\n",
    "\n",
    "def mh(n_total: int, n_burn: int, start_params: tuple=(1,2)):\n",
    "    results = []\n",
    "    curr_params = start_params\n",
    "    for i in range(n_total):\n",
    "        result = mh_step(curr_params)\n",
    "        if result['accepted']:\n",
    "            curr_params = result['value']\n",
    "        if i > n_burn:\n",
    "            results.append(result)\n",
    "    return results"
   ]
  },
  {
   "cell_type": "code",
   "execution_count": 44,
   "id": "herbal-colony",
   "metadata": {},
   "outputs": [
    {
     "name": "stdout",
     "output_type": "stream",
     "text": [
      "got accept prob 0.1071948616496861 for pair (1,1.1)\n",
      "got accept prob 0.1071948616496861 for pair (1,1.1)\n",
      "got accept prob 0.1071948616496861 for pair (1,1.1)\n",
      "got accept prob 0.0 for pair (4.889281809631366,1.1)\n",
      "got accept prob 0.0 for pair (4.889281809631366,1.1)\n"
     ]
    },
    {
     "data": {
      "text/plain": [
       "[]"
      ]
     },
     "execution_count": 44,
     "metadata": {},
     "output_type": "execute_result"
    }
   ],
   "source": [
    "results = mh(5, 10, (1,1.1))\n",
    "results"
   ]
  },
  {
   "cell_type": "code",
   "execution_count": 19,
   "id": "african-salon",
   "metadata": {},
   "outputs": [
    {
     "data": {
      "text/plain": [
       "[{'accepted': False, 'value': -0.06776443623479012, 'accept_prob': 0.0},\n",
       " {'accepted': False, 'value': 0.5438105064316554, 'accept_prob': 0.0},\n",
       " {'accepted': False, 'value': 7.443528755686249, 'accept_prob': 0.0},\n",
       " {'accepted': False, 'value': 5.903754614561018, 'accept_prob': 0.0},\n",
       " {'accepted': False, 'value': 3.321220714212844, 'accept_prob': 0.0},\n",
       " {'accepted': False, 'value': 3.098556376261484, 'accept_prob': 0.0},\n",
       " {'accepted': False, 'value': 3.2284305816619376, 'accept_prob': 0.0},\n",
       " {'accepted': False, 'value': 4.274818557431545, 'accept_prob': 0.0},\n",
       " {'accepted': False, 'value': -12.238437536445776, 'accept_prob': 0.0},\n",
       " {'accepted': False, 'value': 2.680651535659451, 'accept_prob': 0.0}]"
      ]
     },
     "execution_count": 19,
     "metadata": {},
     "output_type": "execute_result"
    }
   ],
   "source": [
    "results[-10:]"
   ]
  },
  {
   "cell_type": "code",
   "execution_count": 23,
   "id": "extra-right",
   "metadata": {},
   "outputs": [
    {
     "data": {
      "text/plain": [
       "1.0491375858483887e-96"
      ]
     },
     "execution_count": 23,
     "metadata": {},
     "output_type": "execute_result"
    }
   ],
   "source": [
    "x,y = (12,17)\n",
    "f_density(x,y)/(g_density(x,y)+exp(0))"
   ]
  },
  {
   "cell_type": "code",
   "execution_count": 11,
   "id": "south-sociology",
   "metadata": {},
   "outputs": [
    {
     "ename": "NameError",
     "evalue": "name 'step' is not defined",
     "output_type": "error",
     "traceback": [
      "\u001b[1;31m---------------------------------------------------------------------------\u001b[0m",
      "\u001b[1;31mNameError\u001b[0m                                 Traceback (most recent call last)",
      "\u001b[1;32m<ipython-input-11-700f54b8972a>\u001b[0m in \u001b[0;36m<module>\u001b[1;34m\u001b[0m\n\u001b[1;32m----> 1\u001b[1;33m \u001b[0mstep\u001b[0m\u001b[1;33m(\u001b[0m\u001b[1;36m1\u001b[0m\u001b[1;33m,\u001b[0m\u001b[1;36m2\u001b[0m\u001b[1;33m)\u001b[0m\u001b[1;33m\u001b[0m\u001b[1;33m\u001b[0m\u001b[0m\n\u001b[0m",
      "\u001b[1;31mNameError\u001b[0m: name 'step' is not defined"
     ]
    }
   ],
   "source": [
    "step(1,2)"
   ]
  },
  {
   "cell_type": "code",
   "execution_count": null,
   "id": "agricultural-ecuador",
   "metadata": {},
   "outputs": [],
   "source": [
    "#TODO\n",
    "#implement f(s) (rlly f(x,y))\n",
    "#do f(s)/(g(s)+M)"
   ]
  },
  {
   "cell_type": "markdown",
   "id": "fundamental-tuning",
   "metadata": {},
   "source": [
    "## Gibbs Sampling"
   ]
  }
 ],
 "metadata": {
  "kernelspec": {
   "display_name": "Python 3",
   "language": "python",
   "name": "python3"
  },
  "language_info": {
   "codemirror_mode": {
    "name": "ipython",
    "version": 3
   },
   "file_extension": ".py",
   "mimetype": "text/x-python",
   "name": "python",
   "nbconvert_exporter": "python",
   "pygments_lexer": "ipython3",
   "version": "3.8.7"
  }
 },
 "nbformat": 4,
 "nbformat_minor": 5
}
