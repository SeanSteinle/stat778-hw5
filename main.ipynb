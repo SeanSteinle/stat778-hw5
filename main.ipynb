{
 "cells": [
  {
   "cell_type": "markdown",
   "id": "handled-dallas",
   "metadata": {},
   "source": [
    "# STAT778: Homework 5\n",
    "*Sean Steinle*\n",
    "\n",
    "## Table of Contents\n",
    "1. [Inverse Transform Sampling and Metropolis-Hastings](#Inverse-Transform-Sampling-and-Metropolis-Hastings)\n",
    "    - [Inverse Transform Sampling for G](#Inverse-Transform-Sampling-for-G)\n",
    "    - [A Valid Envelope](#A-Valid-Envelope)\n",
    "    - [Rejection Sampling for F](#Rejection-Sampling-for-F)\n",
    "2. [Gibbs Sampling](#Gibbs-Sampling)\n",
    "3. [Epilogue: Metropolis-Hastings Revisited](#Epilogue:-Metropolis-Hastings-Revisited)"
   ]
  },
  {
   "cell_type": "markdown",
   "id": "twelve-calculation",
   "metadata": {},
   "source": [
    "## Inverse Transform Sampling and Metropolis-Hastings"
   ]
  },
  {
   "cell_type": "markdown",
   "id": "maritime-scotland",
   "metadata": {},
   "source": [
    "### Inverse Transform Sampling for G"
   ]
  },
  {
   "cell_type": "markdown",
   "id": "selective-monaco",
   "metadata": {},
   "source": [
    "Question 1a asks us to create a sampler for g.\n",
    "1. We can treat g(x,y|z) as two independent variables g(x|z) and g(y|z).\n",
    "2. Both g(x|z) and g(y|z) have the same functional form as each other. The only different is that x is distributed from (-inf,inf) while y is distributed from \\[0,inf).\n",
    "3. Both g(x|z) and g(y|z) have the same functional form as the Laplace distribution, where z is the location parameter and diversity is set sqrt(2). Note that g(x|z) amnd g(y|z) are scaled by a factor of 2*sqrt(2).\n",
    "4. Because we know the Laplace distribution has a closed-form inverse, we can use inverse transform sampling to generate random numbers of the same functional form as g(x|z) and g(y|z)."
   ]
  },
  {
   "cell_type": "code",
   "execution_count": 1,
   "id": "industrial-apparel",
   "metadata": {},
   "outputs": [],
   "source": [
    "#imports\n",
    "import matplotlib.pyplot as plt\n",
    "import pandas as pd\n",
    "from numpy.random import uniform, normal, laplace\n",
    "from numpy import sign,linspace\n",
    "from math import exp, log\n",
    "from scipy.stats import truncnorm"
   ]
  },
  {
   "cell_type": "code",
   "execution_count": 2,
   "id": "compound-saudi",
   "metadata": {},
   "outputs": [],
   "source": [
    "def slaplace(z: float = 0, beta: float = 1): \n",
    "    \"\"\"Generates samples from the Laplace distribution where z is the location parameter and beta is the diversity parameter.\"\"\"\n",
    "    u = uniform() #draw u, a float from [0,1]\n",
    "    sample = z - beta * sign(u - 0.5) * log(1 - 2 * abs(u - 0.5)) #transform u using inverse cdf of the laplace distribution\n",
    "    return sample #rescale sample\n",
    "\n",
    "def g(x_loc: float, y_loc: float):\n",
    "    \"\"\"Uses our Laplace samplers to sample our two variables.\"\"\"\n",
    "    x_draw = slaplace(x_loc)\n",
    "    y_draw = -1\n",
    "    while y_draw < 0:\n",
    "        y_draw = slaplace(y_loc)\n",
    "    return x_draw,y_draw\n",
    "\n",
    "def g_density(x: float, y: float, z: float = 0):\n",
    "    \"\"\"Calculates density of g for theta = (x,y). Assume z = 0.\"\"\"\n",
    "    return exp(-abs(x-z)/(2**0.5)) - exp(-abs(y-z)/(2**0.5))\n",
    "    \n",
    "def f_density(x: float, y: float, z: float = 0): #PROBLEM: this is density!\n",
    "    \"\"\"Calculates density of f for theta = (x,y). Assume z = 0.\"\"\"\n",
    "    if x>=y: return 0\n",
    "    return exp(-abs((x-z)*(y-z)) - max(abs(x-z),abs(y-z)))"
   ]
  },
  {
   "cell_type": "code",
   "execution_count": 3,
   "id": "lucky-personal",
   "metadata": {},
   "outputs": [
    {
     "data": {
      "text/plain": [
       "(1.0, 0.03366109771604264, 0.11080315836233387)"
      ]
     },
     "execution_count": 3,
     "metadata": {},
     "output_type": "execute_result"
    }
   ],
   "source": [
    "x,y = 1,1.1\n",
    "exp(0),g_density(x,y),f_density(x,y)"
   ]
  },
  {
   "cell_type": "code",
   "execution_count": 4,
   "id": "uniform-somewhere",
   "metadata": {},
   "outputs": [
    {
     "data": {
      "text/plain": [
       "(array([6.0000e+00, 6.2000e+01, 7.8900e+02, 7.6550e+03, 6.1957e+04,\n",
       "        2.6578e+04, 2.6560e+03, 2.5800e+02, 3.6000e+01, 3.0000e+00]),\n",
       " array([-11.02354291,  -8.71471658,  -6.40589026,  -4.09706393,\n",
       "         -1.78823761,   0.52058871,   2.82941504,   5.13824136,\n",
       "          7.44706769,   9.75589401,  12.06472034]),\n",
       " <BarContainer object of 10 artists>)"
      ]
     },
     "execution_count": 4,
     "metadata": {},
     "output_type": "execute_result"
    },
    {
     "data": {
      "image/png": "[encoded data removed]",
      "text/plain": [
       "<Figure size 432x288 with 1 Axes>"
      ]
     },
     "metadata": {
      "needs_background": "light"
     },
     "output_type": "display_data"
    }
   ],
   "source": [
    "scaled_laplace_samples = [slaplace() for _ in range(100000)]\n",
    "plt.hist(scaled_laplace_samples, bins = 10)"
   ]
  },
  {
   "cell_type": "code",
   "execution_count": 5,
   "id": "protected-absorption",
   "metadata": {},
   "outputs": [
    {
     "data": {
      "text/plain": [
       "(array([7.0000e+00, 6.0000e+01, 4.8400e+02, 4.2710e+03, 3.9616e+04,\n",
       "        4.9570e+04, 5.3960e+03, 5.2300e+02, 6.4000e+01, 9.0000e+00]),\n",
       " array([-31.74457356, -25.46123176, -19.17788996, -12.89454816,\n",
       "         -6.61120635,  -0.32786455,   5.95547725,  12.23881905,\n",
       "         18.52216085,  24.80550265,  31.08884446]),\n",
       " <BarContainer object of 10 artists>)"
      ]
     },
     "execution_count": 5,
     "metadata": {},
     "output_type": "execute_result"
    },
    {
     "data": {
      "image/png": "[encoded data removed]",
      "text/plain": [
       "<Figure size 432x288 with 1 Axes>"
      ]
     },
     "metadata": {
      "needs_background": "light"
     },
     "output_type": "display_data"
    }
   ],
   "source": [
    "laplace_samples = [laplace(0, 2*(2**0.5)) for _ in range(100000)]\n",
    "plt.hist(laplace_samples, bins = 10)"
   ]
  },
  {
   "cell_type": "markdown",
   "id": "corrected-mountain",
   "metadata": {},
   "source": [
    "As a quick sanity check, we can see that our Laplace sampling function generates the same shape as Numpy's Laplace sampler."
   ]
  },
  {
   "cell_type": "markdown",
   "id": "respiratory-sullivan",
   "metadata": {},
   "source": [
    "### A Valid Envelope"
   ]
  },
  {
   "cell_type": "code",
   "execution_count": 6,
   "id": "enabling-accident",
   "metadata": {},
   "outputs": [
    {
     "data": {
      "text/plain": [
       "Text(0.5, 1.0, 'Domains of F (Above Blue) and G (Above Red)')"
      ]
     },
     "execution_count": 6,
     "metadata": {},
     "output_type": "execute_result"
    },
    {
     "data": {
      "image/png": "[encoded data removed]",
      "text/plain": [
       "<Figure size 432x288 with 1 Axes>"
      ]
     },
     "metadata": {
      "needs_background": "light"
     },
     "output_type": "display_data"
    }
   ],
   "source": [
    "plt.plot(range(100))\n",
    "plt.axhline(y = 50, color = 'red')\n",
    "plt.title(\"Domains of F (Above Blue) and G (Above Red)\")"
   ]
  },
  {
   "cell_type": "markdown",
   "id": "editorial-number",
   "metadata": {},
   "source": [
    "To prove that g (or some scaling of g) is a valid envelope for f, we must prove two things: that g's domain spans the domain of f, and that g majorizes f.\n",
    "- g's domain spans the domain of f because g's domain is a rotation of f's domain (as shown in the plot above). g's domain encompasses all real numbers above Y=0, whereas f's domain encompasses all real numbers where X>Y. The bivariate density of f when x = (x-y)/sqrt(2), y = (x+y)/sqrt(2) rotates f's domain such that g spans f's domain.\n",
    "- exp(abs(z))\\*g majorizes f because for all x, y, and z, exp(abs(z))\\*g is greater than f."
   ]
  },
  {
   "cell_type": "markdown",
   "id": "serious-frost",
   "metadata": {},
   "source": [
    "### Rejection Sampling for F"
   ]
  },
  {
   "cell_type": "code",
   "execution_count": 62,
   "id": "federal-suicide",
   "metadata": {},
   "outputs": [],
   "source": [
    "z = 0\n",
    "M = exp(z)\n",
    "\n",
    "def mh_step(theta: tuple):\n",
    "    \"\"\"Implements one step of the Metropolis-Hastings algorithm.\"\"\"\n",
    "    x_curr,y_curr = theta\n",
    "    x_prop,y_prop = g(x_curr,y_curr) #sample s from g(s)\n",
    "    \n",
    "    print(f\"f: {f_density(x_prop,y_prop)}\\tg: {g_density(x_prop,y_prop)}\")\n",
    "    #g is negative?\n",
    "    \n",
    "    accept_prob = min(f_density(x_prop,y_prop)/g_density(x_prop,y_prop),1) #accept with probability f(s)/g(s)+M\n",
    "    return {'accepted': accept_prob >= uniform(), 'value': (x_prop,y_prop), 'accept_prob': accept_prob}\n",
    "\n",
    "def mh(n_samples: int, n_burn: int, start_params: tuple=(1,1.1), n_lag: int=1):\n",
    "    \"\"\"Implements the Metropolis-Hastings algorithm.\"\"\"\n",
    "    results = []\n",
    "    lag_count = 0\n",
    "    curr_params = start_params\n",
    "    for _ in range(n_burn): #burn-in period, results aren't saved\n",
    "        result = mh_step(curr_params)\n",
    "        if result['accepted']:\n",
    "            curr_params = result['value']\n",
    "    for _ in range(n_samples):\n",
    "        for _ in range(n_lag):\n",
    "            result = mh_step(curr_params)\n",
    "            if result['accepted']:\n",
    "                curr_params = result['value']\n",
    "        results.append(result)\n",
    "    return results"
   ]
  },
  {
   "cell_type": "code",
   "execution_count": 80,
   "id": "nasty-iceland",
   "metadata": {},
   "outputs": [
    {
     "name": "stdout",
     "output_type": "stream",
     "text": [
      "f: 0\tg: -0.11033308019375543\n"
     ]
    },
    {
     "data": {
      "text/plain": [
       "{'accepted': False,\n",
       " 'value': (2.7408257013331263, 1.9363063291865543),\n",
       " 'accept_prob': -0.0}"
      ]
     },
     "execution_count": 80,
     "metadata": {},
     "output_type": "execute_result"
    }
   ],
   "source": [
    "mh_step((0,3))"
   ]
  },
  {
   "cell_type": "code",
   "execution_count": 26,
   "id": "wound-memory",
   "metadata": {},
   "outputs": [
    {
     "data": {
      "text/plain": [
       "[{'accepted': True,\n",
       "  'value': (-1.0289883999242795, 0.7692091558298726),\n",
       "  'accept_prob': 1},\n",
       " {'accepted': False,\n",
       "  'value': (-1.1729953075721107, 1.365948995368252),\n",
       "  'accept_prob': 0.31736426656789285},\n",
       " {'accepted': False,\n",
       "  'value': (-3.6966226466433767, 1.8618795021359913),\n",
       "  'accept_prob': 0.0001570741012985322},\n",
       " {'accepted': False,\n",
       "  'value': (-1.3870307587865796, 1.6780269217728485),\n",
       "  'accept_prob': 0.11247703877406068},\n",
       " {'accepted': False,\n",
       "  'value': (-1.5221034232608481, 3.326849075452456),\n",
       "  'accept_prob': 0.0014015706988772816}]"
      ]
     },
     "execution_count": 26,
     "metadata": {},
     "output_type": "execute_result"
    }
   ],
   "source": [
    "results = mh(10000, 1000, (0,1))\n",
    "results[:5]"
   ]
  },
  {
   "cell_type": "code",
   "execution_count": 27,
   "id": "simple-rough",
   "metadata": {
    "scrolled": true
   },
   "outputs": [
    {
     "data": {
      "text/html": [
       "<div>\n",
       "<style scoped>\n",
       "    .dataframe tbody tr th:only-of-type {\n",
       "        vertical-align: middle;\n",
       "    }\n",
       "\n",
       "    .dataframe tbody tr th {\n",
       "        vertical-align: top;\n",
       "    }\n",
       "\n",
       "    .dataframe thead th {\n",
       "        text-align: right;\n",
       "    }\n",
       "</style>\n",
       "<table border=\"1\" class=\"dataframe\">\n",
       "  <thead>\n",
       "    <tr style=\"text-align: right;\">\n",
       "      <th></th>\n",
       "      <th>accepted</th>\n",
       "      <th>value</th>\n",
       "      <th>accept_prob</th>\n",
       "      <th>X</th>\n",
       "      <th>Y</th>\n",
       "    </tr>\n",
       "  </thead>\n",
       "  <tbody>\n",
       "    <tr>\n",
       "      <th>0</th>\n",
       "      <td>True</td>\n",
       "      <td>(-1.0289883999242795, 0.7692091558298726)</td>\n",
       "      <td>1.000000</td>\n",
       "      <td>-1.028988</td>\n",
       "      <td>0.769209</td>\n",
       "    </tr>\n",
       "    <tr>\n",
       "      <th>1</th>\n",
       "      <td>False</td>\n",
       "      <td>(-1.1729953075721107, 1.365948995368252)</td>\n",
       "      <td>0.317364</td>\n",
       "      <td>-1.172995</td>\n",
       "      <td>1.365949</td>\n",
       "    </tr>\n",
       "    <tr>\n",
       "      <th>2</th>\n",
       "      <td>False</td>\n",
       "      <td>(-3.6966226466433767, 1.8618795021359913)</td>\n",
       "      <td>0.000157</td>\n",
       "      <td>-3.696623</td>\n",
       "      <td>1.861880</td>\n",
       "    </tr>\n",
       "    <tr>\n",
       "      <th>3</th>\n",
       "      <td>False</td>\n",
       "      <td>(-1.3870307587865796, 1.6780269217728485)</td>\n",
       "      <td>0.112477</td>\n",
       "      <td>-1.387031</td>\n",
       "      <td>1.678027</td>\n",
       "    </tr>\n",
       "    <tr>\n",
       "      <th>4</th>\n",
       "      <td>False</td>\n",
       "      <td>(-1.5221034232608481, 3.326849075452456)</td>\n",
       "      <td>0.001402</td>\n",
       "      <td>-1.522103</td>\n",
       "      <td>3.326849</td>\n",
       "    </tr>\n",
       "    <tr>\n",
       "      <th>...</th>\n",
       "      <td>...</td>\n",
       "      <td>...</td>\n",
       "      <td>...</td>\n",
       "      <td>...</td>\n",
       "      <td>...</td>\n",
       "    </tr>\n",
       "    <tr>\n",
       "      <th>9995</th>\n",
       "      <td>False</td>\n",
       "      <td>(-0.280337924426586, 4.566056466167218)</td>\n",
       "      <td>0.145812</td>\n",
       "      <td>-0.280338</td>\n",
       "      <td>4.566056</td>\n",
       "    </tr>\n",
       "    <tr>\n",
       "      <th>9996</th>\n",
       "      <td>True</td>\n",
       "      <td>(-0.3603368885470417, 2.8774435743242837)</td>\n",
       "      <td>1.000000</td>\n",
       "      <td>-0.360337</td>\n",
       "      <td>2.877444</td>\n",
       "    </tr>\n",
       "    <tr>\n",
       "      <th>9997</th>\n",
       "      <td>True</td>\n",
       "      <td>(0.158431138466694, 1.4404067535167637)</td>\n",
       "      <td>1.000000</td>\n",
       "      <td>0.158431</td>\n",
       "      <td>1.440407</td>\n",
       "    </tr>\n",
       "    <tr>\n",
       "      <th>9998</th>\n",
       "      <td>False</td>\n",
       "      <td>(5.965002381549593, 1.601682635504772)</td>\n",
       "      <td>0.000000</td>\n",
       "      <td>5.965002</td>\n",
       "      <td>1.601683</td>\n",
       "    </tr>\n",
       "    <tr>\n",
       "      <th>9999</th>\n",
       "      <td>True</td>\n",
       "      <td>(0.26064205330866824, 1.5360014435731553)</td>\n",
       "      <td>0.765110</td>\n",
       "      <td>0.260642</td>\n",
       "      <td>1.536001</td>\n",
       "    </tr>\n",
       "  </tbody>\n",
       "</table>\n",
       "<p>10000 rows × 5 columns</p>\n",
       "</div>"
      ],
      "text/plain": [
       "      accepted                                      value  accept_prob  \\\n",
       "0         True  (-1.0289883999242795, 0.7692091558298726)     1.000000   \n",
       "1        False   (-1.1729953075721107, 1.365948995368252)     0.317364   \n",
       "2        False  (-3.6966226466433767, 1.8618795021359913)     0.000157   \n",
       "3        False  (-1.3870307587865796, 1.6780269217728485)     0.112477   \n",
       "4        False   (-1.5221034232608481, 3.326849075452456)     0.001402   \n",
       "...        ...                                        ...          ...   \n",
       "9995     False    (-0.280337924426586, 4.566056466167218)     0.145812   \n",
       "9996      True  (-0.3603368885470417, 2.8774435743242837)     1.000000   \n",
       "9997      True    (0.158431138466694, 1.4404067535167637)     1.000000   \n",
       "9998     False     (5.965002381549593, 1.601682635504772)     0.000000   \n",
       "9999      True  (0.26064205330866824, 1.5360014435731553)     0.765110   \n",
       "\n",
       "             X         Y  \n",
       "0    -1.028988  0.769209  \n",
       "1    -1.172995  1.365949  \n",
       "2    -3.696623  1.861880  \n",
       "3    -1.387031  1.678027  \n",
       "4    -1.522103  3.326849  \n",
       "...        ...       ...  \n",
       "9995 -0.280338  4.566056  \n",
       "9996 -0.360337  2.877444  \n",
       "9997  0.158431  1.440407  \n",
       "9998  5.965002  1.601683  \n",
       "9999  0.260642  1.536001  \n",
       "\n",
       "[10000 rows x 5 columns]"
      ]
     },
     "execution_count": 27,
     "metadata": {},
     "output_type": "execute_result"
    }
   ],
   "source": [
    "df = pd.DataFrame(results)\n",
    "df[['X', 'Y']] = pd.DataFrame(df['value'].tolist(), index=df.index)\n",
    "df"
   ]
  },
  {
   "cell_type": "code",
   "execution_count": 28,
   "id": "major-honolulu",
   "metadata": {
    "scrolled": true
   },
   "outputs": [
    {
     "data": {
      "text/plain": [
       "(array([[0., 0., 0., ..., 0., 0., 0.],\n",
       "        [0., 0., 0., ..., 0., 0., 0.],\n",
       "        [0., 0., 0., ..., 0., 0., 0.],\n",
       "        ...,\n",
       "        [0., 0., 0., ..., 0., 0., 0.],\n",
       "        [0., 0., 0., ..., 0., 0., 0.],\n",
       "        [0., 0., 0., ..., 0., 0., 0.]]),\n",
       " array([-9.82622768, -9.63618534, -9.44614301, -9.25610068, -9.06605834,\n",
       "        -8.87601601, -8.68597368, -8.49593134, -8.30588901, -8.11584668,\n",
       "        -7.92580435, -7.73576201, -7.54571968, -7.35567735, -7.16563501,\n",
       "        -6.97559268, -6.78555035, -6.59550801, -6.40546568, -6.21542335,\n",
       "        -6.02538101, -5.83533868, -5.64529635, -5.45525401, -5.26521168,\n",
       "        -5.07516935, -4.88512701, -4.69508468, -4.50504235, -4.31500002,\n",
       "        -4.12495768, -3.93491535, -3.74487302, -3.55483068, -3.36478835,\n",
       "        -3.17474602, -2.98470368, -2.79466135, -2.60461902, -2.41457668,\n",
       "        -2.22453435, -2.03449202, -1.84444968, -1.65440735, -1.46436502,\n",
       "        -1.27432268, -1.08428035, -0.89423802, -0.70419569, -0.51415335,\n",
       "        -0.32411102, -0.13406869,  0.05597365,  0.24601598,  0.43605831,\n",
       "         0.62610065,  0.81614298,  1.00618531,  1.19622765,  1.38626998,\n",
       "         1.57631231,  1.76635465,  1.95639698,  2.14643931,  2.33648164,\n",
       "         2.52652398,  2.71656631,  2.90660864,  3.09665098,  3.28669331,\n",
       "         3.47673564,  3.66677798,  3.85682031,  4.04686264,  4.23690498,\n",
       "         4.42694731,  4.61698964,  4.80703198,  4.99707431,  5.18711664,\n",
       "         5.37715898,  5.56720131,  5.75724364,  5.94728597,  6.13732831,\n",
       "         6.32737064,  6.51741297,  6.70745531,  6.89749764,  7.08753997,\n",
       "         7.27758231,  7.46762464,  7.65766697,  7.84770931,  8.03775164,\n",
       "         8.22779397,  8.41783631,  8.60787864,  8.79792097,  8.98796331,\n",
       "         9.17800564]),\n",
       " array([2.29425065e-04, 8.83537669e-02, 1.76478109e-01, 2.64602450e-01,\n",
       "        3.52726792e-01, 4.40851134e-01, 5.28975476e-01, 6.17099818e-01,\n",
       "        7.05224159e-01, 7.93348501e-01, 8.81472843e-01, 9.69597185e-01,\n",
       "        1.05772153e+00, 1.14584587e+00, 1.23397021e+00, 1.32209455e+00,\n",
       "        1.41021889e+00, 1.49834324e+00, 1.58646758e+00, 1.67459192e+00,\n",
       "        1.76271626e+00, 1.85084060e+00, 1.93896494e+00, 2.02708929e+00,\n",
       "        2.11521363e+00, 2.20333797e+00, 2.29146231e+00, 2.37958665e+00,\n",
       "        2.46771100e+00, 2.55583534e+00, 2.64395968e+00, 2.73208402e+00,\n",
       "        2.82020836e+00, 2.90833270e+00, 2.99645705e+00, 3.08458139e+00,\n",
       "        3.17270573e+00, 3.26083007e+00, 3.34895441e+00, 3.43707875e+00,\n",
       "        3.52520310e+00, 3.61332744e+00, 3.70145178e+00, 3.78957612e+00,\n",
       "        3.87770046e+00, 3.96582481e+00, 4.05394915e+00, 4.14207349e+00,\n",
       "        4.23019783e+00, 4.31832217e+00, 4.40644651e+00, 4.49457086e+00,\n",
       "        4.58269520e+00, 4.67081954e+00, 4.75894388e+00, 4.84706822e+00,\n",
       "        4.93519257e+00, 5.02331691e+00, 5.11144125e+00, 5.19956559e+00,\n",
       "        5.28768993e+00, 5.37581427e+00, 5.46393862e+00, 5.55206296e+00,\n",
       "        5.64018730e+00, 5.72831164e+00, 5.81643598e+00, 5.90456033e+00,\n",
       "        5.99268467e+00, 6.08080901e+00, 6.16893335e+00, 6.25705769e+00,\n",
       "        6.34518203e+00, 6.43330638e+00, 6.52143072e+00, 6.60955506e+00,\n",
       "        6.69767940e+00, 6.78580374e+00, 6.87392808e+00, 6.96205243e+00,\n",
       "        7.05017677e+00, 7.13830111e+00, 7.22642545e+00, 7.31454979e+00,\n",
       "        7.40267414e+00, 7.49079848e+00, 7.57892282e+00, 7.66704716e+00,\n",
       "        7.75517150e+00, 7.84329584e+00, 7.93142019e+00, 8.01954453e+00,\n",
       "        8.10766887e+00, 8.19579321e+00, 8.28391755e+00, 8.37204190e+00,\n",
       "        8.46016624e+00, 8.54829058e+00, 8.63641492e+00, 8.72453926e+00,\n",
       "        8.81266360e+00]),\n",
       " <matplotlib.collections.QuadMesh at 0x28e4b782be0>)"
      ]
     },
     "execution_count": 28,
     "metadata": {},
     "output_type": "execute_result"
    },
    {
     "data": {
      "image/png": "[encoded data removed]",
      "text/plain": [
       "<Figure size 432x288 with 1 Axes>"
      ]
     },
     "metadata": {
      "needs_background": "light"
     },
     "output_type": "display_data"
    }
   ],
   "source": [
    "plt.hist2d(df['X'],df['Y'], bins = 100)"
   ]
  },
  {
   "cell_type": "code",
   "execution_count": 29,
   "id": "extra-bridge",
   "metadata": {},
   "outputs": [
    {
     "data": {
      "text/plain": [
       "(array([4307.,  883.,  629.,  499.,  435.,  345.,  344.,  304.,  257.,\n",
       "        1997.]),\n",
       " array([0. , 0.1, 0.2, 0.3, 0.4, 0.5, 0.6, 0.7, 0.8, 0.9, 1. ]),\n",
       " <BarContainer object of 10 artists>)"
      ]
     },
     "execution_count": 29,
     "metadata": {},
     "output_type": "execute_result"
    },
    {
     "data": {
      "image/png": "[encoded data removed]",
      "text/plain": [
       "<Figure size 432x288 with 1 Axes>"
      ]
     },
     "metadata": {
      "needs_background": "light"
     },
     "output_type": "display_data"
    }
   ],
   "source": [
    "plt.hist(df['accept_prob'])"
   ]
  },
  {
   "cell_type": "markdown",
   "id": "large-surface",
   "metadata": {},
   "source": [
    "Our Metropolis-Hastings algorithm looks good! We see that X looks like a typical Laplace distribution and Y is similar but cut off. Out of curiosity, will we still see convergence even if we try from many directions?"
   ]
  },
  {
   "cell_type": "code",
   "execution_count": 30,
   "id": "forty-detection",
   "metadata": {
    "scrolled": true
   },
   "outputs": [
    {
     "data": {
      "image/png": "[encoded data removed]",
      "text/plain": [
       "<Figure size 432x288 with 1 Axes>"
      ]
     },
     "metadata": {
      "needs_background": "light"
     },
     "output_type": "display_data"
    },
    {
     "data": {
      "image/png": "[encoded data removed]",
      "text/plain": [
       "<Figure size 432x288 with 1 Axes>"
      ]
     },
     "metadata": {
      "needs_background": "light"
     },
     "output_type": "display_data"
    },
    {
     "data": {
      "image/png": "[encoded data removed]",
      "text/plain": [
       "<Figure size 432x288 with 1 Axes>"
      ]
     },
     "metadata": {
      "needs_background": "light"
     },
     "output_type": "display_data"
    },
    {
     "data": {
      "image/png": "[encoded data removed]",
      "text/plain": [
       "<Figure size 432x288 with 1 Axes>"
      ]
     },
     "metadata": {
      "needs_background": "light"
     },
     "output_type": "display_data"
    }
   ],
   "source": [
    "for start in [(0,3),(15,28),(0.001,0.01),(-1,0)]:\n",
    "    results = mh(10000, 1000, start)\n",
    "    df = pd.DataFrame(results)\n",
    "    df[['X', 'Y']] = pd.DataFrame(df['value'].tolist(), index=df.index)\n",
    "    plt.hist2d(df['X'],df['Y'], bins = 100)\n",
    "    plt.title(f\"Estimation from {start}\")\n",
    "    plt.show()"
   ]
  },
  {
   "cell_type": "markdown",
   "id": "refined-meaning",
   "metadata": {},
   "source": [
    "Looks like the answer is yes!"
   ]
  },
  {
   "cell_type": "code",
   "execution_count": 31,
   "id": "virgin-insurance",
   "metadata": {},
   "outputs": [
    {
     "data": {
      "text/html": [
       "<div>\n",
       "<style scoped>\n",
       "    .dataframe tbody tr th:only-of-type {\n",
       "        vertical-align: middle;\n",
       "    }\n",
       "\n",
       "    .dataframe tbody tr th {\n",
       "        vertical-align: top;\n",
       "    }\n",
       "\n",
       "    .dataframe thead th {\n",
       "        text-align: right;\n",
       "    }\n",
       "</style>\n",
       "<table border=\"1\" class=\"dataframe\">\n",
       "  <thead>\n",
       "    <tr style=\"text-align: right;\">\n",
       "      <th></th>\n",
       "      <th>accepted</th>\n",
       "      <th>value</th>\n",
       "      <th>accept_prob</th>\n",
       "      <th>X</th>\n",
       "      <th>Y</th>\n",
       "    </tr>\n",
       "  </thead>\n",
       "  <tbody>\n",
       "    <tr>\n",
       "      <th>1</th>\n",
       "      <td>True</td>\n",
       "      <td>(-0.05000901450277734, 0.8171164668339621)</td>\n",
       "      <td>0.965967</td>\n",
       "      <td>-0.050009</td>\n",
       "      <td>0.817116</td>\n",
       "    </tr>\n",
       "    <tr>\n",
       "      <th>8</th>\n",
       "      <td>True</td>\n",
       "      <td>(0.04658606388081789, 2.619409002439421)</td>\n",
       "      <td>0.152063</td>\n",
       "      <td>0.046586</td>\n",
       "      <td>2.619409</td>\n",
       "    </tr>\n",
       "    <tr>\n",
       "      <th>9</th>\n",
       "      <td>True</td>\n",
       "      <td>(-0.0072310065636094, 2.595166007438716)</td>\n",
       "      <td>1.000000</td>\n",
       "      <td>-0.007231</td>\n",
       "      <td>2.595166</td>\n",
       "    </tr>\n",
       "    <tr>\n",
       "      <th>13</th>\n",
       "      <td>True</td>\n",
       "      <td>(0.7462037733981205, 1.5768472999150895)</td>\n",
       "      <td>0.869736</td>\n",
       "      <td>0.746204</td>\n",
       "      <td>1.576847</td>\n",
       "    </tr>\n",
       "    <tr>\n",
       "      <th>16</th>\n",
       "      <td>True</td>\n",
       "      <td>(-0.9034756776931606, 1.4939155463675917)</td>\n",
       "      <td>0.913808</td>\n",
       "      <td>-0.903476</td>\n",
       "      <td>1.493916</td>\n",
       "    </tr>\n",
       "    <tr>\n",
       "      <th>...</th>\n",
       "      <td>...</td>\n",
       "      <td>...</td>\n",
       "      <td>...</td>\n",
       "      <td>...</td>\n",
       "      <td>...</td>\n",
       "    </tr>\n",
       "    <tr>\n",
       "      <th>9987</th>\n",
       "      <td>True</td>\n",
       "      <td>(0.8206179825073234, 1.936738700550459)</td>\n",
       "      <td>0.987239</td>\n",
       "      <td>0.820618</td>\n",
       "      <td>1.936739</td>\n",
       "    </tr>\n",
       "    <tr>\n",
       "      <th>9988</th>\n",
       "      <td>True</td>\n",
       "      <td>(0.6792890562208185, 1.391300227042271)</td>\n",
       "      <td>1.000000</td>\n",
       "      <td>0.679289</td>\n",
       "      <td>1.391300</td>\n",
       "    </tr>\n",
       "    <tr>\n",
       "      <th>9992</th>\n",
       "      <td>True</td>\n",
       "      <td>(0.928235786495695, 1.2578648413528275)</td>\n",
       "      <td>0.914786</td>\n",
       "      <td>0.928236</td>\n",
       "      <td>1.257865</td>\n",
       "    </tr>\n",
       "    <tr>\n",
       "      <th>9993</th>\n",
       "      <td>True</td>\n",
       "      <td>(0.2312103545183628, 2.3691202421626754)</td>\n",
       "      <td>0.611754</td>\n",
       "      <td>0.231210</td>\n",
       "      <td>2.369120</td>\n",
       "    </tr>\n",
       "    <tr>\n",
       "      <th>9996</th>\n",
       "      <td>True</td>\n",
       "      <td>(-0.17631652481568277, 2.913499138495696)</td>\n",
       "      <td>0.600308</td>\n",
       "      <td>-0.176317</td>\n",
       "      <td>2.913499</td>\n",
       "    </tr>\n",
       "  </tbody>\n",
       "</table>\n",
       "<p>3627 rows × 5 columns</p>\n",
       "</div>"
      ],
      "text/plain": [
       "      accepted                                       value  accept_prob  \\\n",
       "1         True  (-0.05000901450277734, 0.8171164668339621)     0.965967   \n",
       "8         True    (0.04658606388081789, 2.619409002439421)     0.152063   \n",
       "9         True    (-0.0072310065636094, 2.595166007438716)     1.000000   \n",
       "13        True    (0.7462037733981205, 1.5768472999150895)     0.869736   \n",
       "16        True   (-0.9034756776931606, 1.4939155463675917)     0.913808   \n",
       "...        ...                                         ...          ...   \n",
       "9987      True     (0.8206179825073234, 1.936738700550459)     0.987239   \n",
       "9988      True     (0.6792890562208185, 1.391300227042271)     1.000000   \n",
       "9992      True     (0.928235786495695, 1.2578648413528275)     0.914786   \n",
       "9993      True    (0.2312103545183628, 2.3691202421626754)     0.611754   \n",
       "9996      True   (-0.17631652481568277, 2.913499138495696)     0.600308   \n",
       "\n",
       "             X         Y  \n",
       "1    -0.050009  0.817116  \n",
       "8     0.046586  2.619409  \n",
       "9    -0.007231  2.595166  \n",
       "13    0.746204  1.576847  \n",
       "16   -0.903476  1.493916  \n",
       "...        ...       ...  \n",
       "9987  0.820618  1.936739  \n",
       "9988  0.679289  1.391300  \n",
       "9992  0.928236  1.257865  \n",
       "9993  0.231210  2.369120  \n",
       "9996 -0.176317  2.913499  \n",
       "\n",
       "[3627 rows x 5 columns]"
      ]
     },
     "execution_count": 31,
     "metadata": {},
     "output_type": "execute_result"
    }
   ],
   "source": [
    "target_df = df[df['accepted']]\n",
    "target_df"
   ]
  },
  {
   "cell_type": "code",
   "execution_count": 32,
   "id": "upper-adoption",
   "metadata": {},
   "outputs": [
    {
     "data": {
      "text/plain": [
       "Text(0, 0.5, 'Y')"
      ]
     },
     "execution_count": 32,
     "metadata": {},
     "output_type": "execute_result"
    },
    {
     "data": {
      "image/png": "[encoded data removed]",
      "text/plain": [
       "<Figure size 432x288 with 1 Axes>"
      ]
     },
     "metadata": {
      "needs_background": "light"
     },
     "output_type": "display_data"
    }
   ],
   "source": [
    "plt.hist2d(target_df['X'],target_df['Y'], bins = 50)\n",
    "plt.title(\"Target Distribution\")\n",
    "plt.xlabel(\"X\")\n",
    "plt.ylabel(\"Y\")"
   ]
  },
  {
   "cell_type": "markdown",
   "id": "monthly-white",
   "metadata": {},
   "source": [
    "Look! We can see the x\\<y restriction imposed by our target function F represented graphically here."
   ]
  },
  {
   "cell_type": "code",
   "execution_count": 33,
   "id": "horizontal-complexity",
   "metadata": {},
   "outputs": [
    {
     "data": {
      "text/html": [
       "<div>\n",
       "<style scoped>\n",
       "    .dataframe tbody tr th:only-of-type {\n",
       "        vertical-align: middle;\n",
       "    }\n",
       "\n",
       "    .dataframe tbody tr th {\n",
       "        vertical-align: top;\n",
       "    }\n",
       "\n",
       "    .dataframe thead th {\n",
       "        text-align: right;\n",
       "    }\n",
       "</style>\n",
       "<table border=\"1\" class=\"dataframe\">\n",
       "  <thead>\n",
       "    <tr style=\"text-align: right;\">\n",
       "      <th></th>\n",
       "      <th>accepted</th>\n",
       "      <th>value</th>\n",
       "      <th>accept_prob</th>\n",
       "      <th>X</th>\n",
       "      <th>Y</th>\n",
       "    </tr>\n",
       "  </thead>\n",
       "  <tbody>\n",
       "    <tr>\n",
       "      <th>0</th>\n",
       "      <td>False</td>\n",
       "      <td>(1.3137135352581326, 0.7469129164592048)</td>\n",
       "      <td>0.000000</td>\n",
       "      <td>1.313714</td>\n",
       "      <td>0.746913</td>\n",
       "    </tr>\n",
       "    <tr>\n",
       "      <th>2</th>\n",
       "      <td>False</td>\n",
       "      <td>(-1.2909934684053874, 1.6574334349953448)</td>\n",
       "      <td>0.052909</td>\n",
       "      <td>-1.290993</td>\n",
       "      <td>1.657433</td>\n",
       "    </tr>\n",
       "    <tr>\n",
       "      <th>3</th>\n",
       "      <td>False</td>\n",
       "      <td>(0.746756618292945, 2.331809991478557)</td>\n",
       "      <td>0.040150</td>\n",
       "      <td>0.746757</td>\n",
       "      <td>2.331810</td>\n",
       "    </tr>\n",
       "    <tr>\n",
       "      <th>4</th>\n",
       "      <td>False</td>\n",
       "      <td>(-5.869891577658005, 0.03622283219636113)</td>\n",
       "      <td>0.005383</td>\n",
       "      <td>-5.869892</td>\n",
       "      <td>0.036223</td>\n",
       "    </tr>\n",
       "    <tr>\n",
       "      <th>5</th>\n",
       "      <td>False</td>\n",
       "      <td>(-0.7890464546482026, 2.0272804084360327)</td>\n",
       "      <td>0.062730</td>\n",
       "      <td>-0.789046</td>\n",
       "      <td>2.027280</td>\n",
       "    </tr>\n",
       "    <tr>\n",
       "      <th>...</th>\n",
       "      <td>...</td>\n",
       "      <td>...</td>\n",
       "      <td>...</td>\n",
       "      <td>...</td>\n",
       "      <td>...</td>\n",
       "    </tr>\n",
       "    <tr>\n",
       "      <th>9994</th>\n",
       "      <td>False</td>\n",
       "      <td>(-2.1228421837348765, 2.4346786507369256)</td>\n",
       "      <td>0.009221</td>\n",
       "      <td>-2.122842</td>\n",
       "      <td>2.434679</td>\n",
       "    </tr>\n",
       "    <tr>\n",
       "      <th>9995</th>\n",
       "      <td>False</td>\n",
       "      <td>(-0.3579557966543049, 2.988083997888568)</td>\n",
       "      <td>0.319563</td>\n",
       "      <td>-0.357956</td>\n",
       "      <td>2.988084</td>\n",
       "    </tr>\n",
       "    <tr>\n",
       "      <th>9997</th>\n",
       "      <td>False</td>\n",
       "      <td>(-0.1435012442831276, 4.3736411458384605)</td>\n",
       "      <td>0.207201</td>\n",
       "      <td>-0.143501</td>\n",
       "      <td>4.373641</td>\n",
       "    </tr>\n",
       "    <tr>\n",
       "      <th>9998</th>\n",
       "      <td>False</td>\n",
       "      <td>(0.932881119425125, 6.340651555198841)</td>\n",
       "      <td>0.000146</td>\n",
       "      <td>0.932881</td>\n",
       "      <td>6.340652</td>\n",
       "    </tr>\n",
       "    <tr>\n",
       "      <th>9999</th>\n",
       "      <td>False</td>\n",
       "      <td>(0.7465185862681007, 3.712404030375633)</td>\n",
       "      <td>0.047048</td>\n",
       "      <td>0.746519</td>\n",
       "      <td>3.712404</td>\n",
       "    </tr>\n",
       "  </tbody>\n",
       "</table>\n",
       "<p>6373 rows × 5 columns</p>\n",
       "</div>"
      ],
      "text/plain": [
       "      accepted                                      value  accept_prob  \\\n",
       "0        False   (1.3137135352581326, 0.7469129164592048)     0.000000   \n",
       "2        False  (-1.2909934684053874, 1.6574334349953448)     0.052909   \n",
       "3        False     (0.746756618292945, 2.331809991478557)     0.040150   \n",
       "4        False  (-5.869891577658005, 0.03622283219636113)     0.005383   \n",
       "5        False  (-0.7890464546482026, 2.0272804084360327)     0.062730   \n",
       "...        ...                                        ...          ...   \n",
       "9994     False  (-2.1228421837348765, 2.4346786507369256)     0.009221   \n",
       "9995     False   (-0.3579557966543049, 2.988083997888568)     0.319563   \n",
       "9997     False  (-0.1435012442831276, 4.3736411458384605)     0.207201   \n",
       "9998     False     (0.932881119425125, 6.340651555198841)     0.000146   \n",
       "9999     False    (0.7465185862681007, 3.712404030375633)     0.047048   \n",
       "\n",
       "             X         Y  \n",
       "0     1.313714  0.746913  \n",
       "2    -1.290993  1.657433  \n",
       "3     0.746757  2.331810  \n",
       "4    -5.869892  0.036223  \n",
       "5    -0.789046  2.027280  \n",
       "...        ...       ...  \n",
       "9994 -2.122842  2.434679  \n",
       "9995 -0.357956  2.988084  \n",
       "9997 -0.143501  4.373641  \n",
       "9998  0.932881  6.340652  \n",
       "9999  0.746519  3.712404  \n",
       "\n",
       "[6373 rows x 5 columns]"
      ]
     },
     "execution_count": 33,
     "metadata": {},
     "output_type": "execute_result"
    }
   ],
   "source": [
    "misses_df = df[~df['accepted']]\n",
    "misses_df"
   ]
  },
  {
   "cell_type": "code",
   "execution_count": 34,
   "id": "national-scroll",
   "metadata": {},
   "outputs": [
    {
     "data": {
      "text/plain": [
       "Text(0, 0.5, 'Y')"
      ]
     },
     "execution_count": 34,
     "metadata": {},
     "output_type": "execute_result"
    },
    {
     "data": {
      "image/png": "[encoded data removed]",
      "text/plain": [
       "<Figure size 432x288 with 1 Axes>"
      ]
     },
     "metadata": {
      "needs_background": "light"
     },
     "output_type": "display_data"
    }
   ],
   "source": [
    "plt.hist2d(target_df['X'],target_df['Y'], bins = 50)\n",
    "plt.title(\"Distribution of Incorrect Guesses\")\n",
    "plt.xlabel(\"X\")\n",
    "plt.ylabel(\"Y\")"
   ]
  },
  {
   "cell_type": "markdown",
   "id": "affecting-naples",
   "metadata": {},
   "source": [
    "Our densest area again draws our attention to our learning of the x\\<y rule!"
   ]
  },
  {
   "cell_type": "markdown",
   "id": "excited-willow",
   "metadata": {},
   "source": [
    "## Gibbs Sampling"
   ]
  },
  {
   "cell_type": "code",
   "execution_count": 18,
   "id": "alone-gardening",
   "metadata": {},
   "outputs": [],
   "source": [
    "def gibbs(n_samples: int, n_burns: int, start_params: tuple=(-1,1,0)):\n",
    "    d = {'x': [], 'y': [], 'z': []}\n",
    "\n",
    "    x,y,z = start_params\n",
    "    #burnin\n",
    "    for i in range(n_burns):\n",
    "        z = truncnorm.rvs(x,y) if x < y else truncnorm.rvs(y,x)\n",
    "        x,y = g(z,z)\n",
    "\n",
    "    #gather samples!\n",
    "    for i in range(n_samples):\n",
    "        z = truncnorm.rvs(x,y) if x < y else truncnorm.rvs(y,x)\n",
    "        x,y = g(z,z)\n",
    "        d['x'].append(x)\n",
    "        d['y'].append(y)\n",
    "        d['z'].append(z)\n",
    "        #print(f\"iteration #{i}: ({x},{y},{z})\")\n",
    "    \n",
    "    return pd.DataFrame(d)"
   ]
  },
  {
   "cell_type": "code",
   "execution_count": 19,
   "id": "hazardous-simpson",
   "metadata": {},
   "outputs": [],
   "source": [
    "gibbs_df = gibbs(100000, 10000)"
   ]
  },
  {
   "cell_type": "code",
   "execution_count": 20,
   "id": "dense-murder",
   "metadata": {},
   "outputs": [
    {
     "data": {
      "text/html": [
       "<div>\n",
       "<style scoped>\n",
       "    .dataframe tbody tr th:only-of-type {\n",
       "        vertical-align: middle;\n",
       "    }\n",
       "\n",
       "    .dataframe tbody tr th {\n",
       "        vertical-align: top;\n",
       "    }\n",
       "\n",
       "    .dataframe thead th {\n",
       "        text-align: right;\n",
       "    }\n",
       "</style>\n",
       "<table border=\"1\" class=\"dataframe\">\n",
       "  <thead>\n",
       "    <tr style=\"text-align: right;\">\n",
       "      <th></th>\n",
       "      <th>x</th>\n",
       "      <th>y</th>\n",
       "      <th>z</th>\n",
       "    </tr>\n",
       "  </thead>\n",
       "  <tbody>\n",
       "    <tr>\n",
       "      <th>0</th>\n",
       "      <td>-0.626833</td>\n",
       "      <td>0.015258</td>\n",
       "      <td>-0.621638</td>\n",
       "    </tr>\n",
       "    <tr>\n",
       "      <th>1</th>\n",
       "      <td>-0.224597</td>\n",
       "      <td>0.606540</td>\n",
       "      <td>-0.581690</td>\n",
       "    </tr>\n",
       "    <tr>\n",
       "      <th>2</th>\n",
       "      <td>1.540676</td>\n",
       "      <td>1.960491</td>\n",
       "      <td>-0.055379</td>\n",
       "    </tr>\n",
       "    <tr>\n",
       "      <th>3</th>\n",
       "      <td>2.654150</td>\n",
       "      <td>1.834145</td>\n",
       "      <td>1.883994</td>\n",
       "    </tr>\n",
       "    <tr>\n",
       "      <th>4</th>\n",
       "      <td>3.161615</td>\n",
       "      <td>2.497614</td>\n",
       "      <td>2.520720</td>\n",
       "    </tr>\n",
       "    <tr>\n",
       "      <th>...</th>\n",
       "      <td>...</td>\n",
       "      <td>...</td>\n",
       "      <td>...</td>\n",
       "    </tr>\n",
       "    <tr>\n",
       "      <th>99995</th>\n",
       "      <td>2.738179</td>\n",
       "      <td>3.366146</td>\n",
       "      <td>2.120497</td>\n",
       "    </tr>\n",
       "    <tr>\n",
       "      <th>99996</th>\n",
       "      <td>2.754578</td>\n",
       "      <td>3.222428</td>\n",
       "      <td>3.023349</td>\n",
       "    </tr>\n",
       "    <tr>\n",
       "      <th>99997</th>\n",
       "      <td>3.381244</td>\n",
       "      <td>3.093416</td>\n",
       "      <td>2.813445</td>\n",
       "    </tr>\n",
       "    <tr>\n",
       "      <th>99998</th>\n",
       "      <td>2.184240</td>\n",
       "      <td>4.396379</td>\n",
       "      <td>3.242199</td>\n",
       "    </tr>\n",
       "    <tr>\n",
       "      <th>99999</th>\n",
       "      <td>3.734118</td>\n",
       "      <td>1.931936</td>\n",
       "      <td>3.274604</td>\n",
       "    </tr>\n",
       "  </tbody>\n",
       "</table>\n",
       "<p>100000 rows × 3 columns</p>\n",
       "</div>"
      ],
      "text/plain": [
       "              x         y         z\n",
       "0     -0.626833  0.015258 -0.621638\n",
       "1     -0.224597  0.606540 -0.581690\n",
       "2      1.540676  1.960491 -0.055379\n",
       "3      2.654150  1.834145  1.883994\n",
       "4      3.161615  2.497614  2.520720\n",
       "...         ...       ...       ...\n",
       "99995  2.738179  3.366146  2.120497\n",
       "99996  2.754578  3.222428  3.023349\n",
       "99997  3.381244  3.093416  2.813445\n",
       "99998  2.184240  4.396379  3.242199\n",
       "99999  3.734118  1.931936  3.274604\n",
       "\n",
       "[100000 rows x 3 columns]"
      ]
     },
     "execution_count": 20,
     "metadata": {},
     "output_type": "execute_result"
    }
   ],
   "source": [
    "gibbs_df"
   ]
  },
  {
   "cell_type": "code",
   "execution_count": 21,
   "id": "nervous-colorado",
   "metadata": {},
   "outputs": [
    {
     "data": {
      "text/plain": [
       "(array([[0., 0., 0., ..., 0., 0., 0.],\n",
       "        [0., 0., 0., ..., 0., 0., 0.],\n",
       "        [0., 0., 0., ..., 0., 0., 0.],\n",
       "        ...,\n",
       "        [0., 0., 0., ..., 0., 0., 0.],\n",
       "        [0., 0., 0., ..., 0., 0., 0.],\n",
       "        [0., 0., 0., ..., 0., 0., 0.]]),\n",
       " array([-12.24586223, -11.7001359 , -11.15440957, -10.60868324,\n",
       "        -10.06295691,  -9.51723058,  -8.97150425,  -8.42577792,\n",
       "         -7.88005159,  -7.33432527,  -6.78859894,  -6.24287261,\n",
       "         -5.69714628,  -5.15141995,  -4.60569362,  -4.05996729,\n",
       "         -3.51424096,  -2.96851463,  -2.42278831,  -1.87706198,\n",
       "         -1.33133565,  -0.78560932,  -0.23988299,   0.30584334,\n",
       "          0.85156967,   1.397296  ,   1.94302233,   2.48874865,\n",
       "          3.03447498,   3.58020131,   4.12592764,   4.67165397,\n",
       "          5.2173803 ,   5.76310663,   6.30883296,   6.85455929,\n",
       "          7.40028561,   7.94601194,   8.49173827,   9.0374646 ,\n",
       "          9.58319093,  10.12891726,  10.67464359,  11.22036992,\n",
       "         11.76609625,  12.31182257,  12.8575489 ,  13.40327523,\n",
       "         13.94900156,  14.49472789,  15.04045422]),\n",
       " array([3.08007674e-05, 2.46872906e-01, 4.93715012e-01, 7.40557118e-01,\n",
       "        9.87399224e-01, 1.23424133e+00, 1.48108344e+00, 1.72792554e+00,\n",
       "        1.97476765e+00, 2.22160975e+00, 2.46845186e+00, 2.71529396e+00,\n",
       "        2.96213607e+00, 3.20897818e+00, 3.45582028e+00, 3.70266239e+00,\n",
       "        3.94950449e+00, 4.19634660e+00, 4.44318870e+00, 4.69003081e+00,\n",
       "        4.93687292e+00, 5.18371502e+00, 5.43055713e+00, 5.67739923e+00,\n",
       "        5.92424134e+00, 6.17108344e+00, 6.41792555e+00, 6.66476766e+00,\n",
       "        6.91160976e+00, 7.15845187e+00, 7.40529397e+00, 7.65213608e+00,\n",
       "        7.89897818e+00, 8.14582029e+00, 8.39266240e+00, 8.63950450e+00,\n",
       "        8.88634661e+00, 9.13318871e+00, 9.38003082e+00, 9.62687292e+00,\n",
       "        9.87371503e+00, 1.01205571e+01, 1.03673992e+01, 1.06142413e+01,\n",
       "        1.08610835e+01, 1.11079256e+01, 1.13547677e+01, 1.16016098e+01,\n",
       "        1.18484519e+01, 1.20952940e+01, 1.23421361e+01]),\n",
       " <matplotlib.collections.QuadMesh at 0x28e4b8869a0>)"
      ]
     },
     "execution_count": 21,
     "metadata": {},
     "output_type": "execute_result"
    },
    {
     "data": {
      "image/png": "[encoded data removed]",
      "text/plain": [
       "<Figure size 432x288 with 1 Axes>"
      ]
     },
     "metadata": {
      "needs_background": "light"
     },
     "output_type": "display_data"
    }
   ],
   "source": [
    "plt.hist2d(gibbs_df['x'],gibbs_df['y'], bins = 50)"
   ]
  },
  {
   "cell_type": "code",
   "execution_count": 22,
   "id": "continuing-specific",
   "metadata": {},
   "outputs": [
    {
     "data": {
      "text/plain": [
       "<AxesSubplot:>"
      ]
     },
     "execution_count": 22,
     "metadata": {},
     "output_type": "execute_result"
    },
    {
     "data": {
      "image/png": "[encoded data removed]",
      "text/plain": [
       "<Figure size 432x288 with 1 Axes>"
      ]
     },
     "metadata": {
      "needs_background": "light"
     },
     "output_type": "display_data"
    }
   ],
   "source": [
    "gibbs_df['z'].hist()"
   ]
  },
  {
   "cell_type": "markdown",
   "id": "thirty-aluminum",
   "metadata": {},
   "source": [
    "These look great! However, we can already see one key distinction between Metropolis-Hastings and Gibbs sampling--Gibbs sampling does not reject samples. While our the distribution of our accepted samples in Metropolis-Hastings drew a sharp line on x = y, Gibbs sampling does not. The line does still show in Gibbs, but it isn't as precisely defined because there is no concept of rejection.\n",
    "\n",
    "Let's now explore how varying our starting point changes our results."
   ]
  },
  {
   "cell_type": "code",
   "execution_count": 23,
   "id": "received-convertible",
   "metadata": {},
   "outputs": [
    {
     "data": {
      "image/png": "[encoded data removed]",
      "text/plain": [
       "<Figure size 432x288 with 1 Axes>"
      ]
     },
     "metadata": {
      "needs_background": "light"
     },
     "output_type": "display_data"
    },
    {
     "data": {
      "image/png": "[encoded data removed]",
      "text/plain": [
       "<Figure size 432x288 with 1 Axes>"
      ]
     },
     "metadata": {
      "needs_background": "light"
     },
     "output_type": "display_data"
    },
    {
     "data": {
      "image/png": "[encoded data removed]",
      "text/plain": [
       "<Figure size 432x288 with 1 Axes>"
      ]
     },
     "metadata": {
      "needs_background": "light"
     },
     "output_type": "display_data"
    },
    {
     "data": {
      "image/png": "[encoded data removed]",
      "text/plain": [
       "<Figure size 432x288 with 1 Axes>"
      ]
     },
     "metadata": {
      "needs_background": "light"
     },
     "output_type": "display_data"
    },
    {
     "data": {
      "image/png": "[encoded data removed]",
      "text/plain": [
       "<Figure size 432x288 with 1 Axes>"
      ]
     },
     "metadata": {
      "needs_background": "light"
     },
     "output_type": "display_data"
    },
    {
     "data": {
      "image/png": "[encoded data removed]",
      "text/plain": [
       "<Figure size 432x288 with 1 Axes>"
      ]
     },
     "metadata": {
      "needs_background": "light"
     },
     "output_type": "display_data"
    },
    {
     "data": {
      "image/png": "[encoded data removed]",
      "text/plain": [
       "<Figure size 432x288 with 1 Axes>"
      ]
     },
     "metadata": {
      "needs_background": "light"
     },
     "output_type": "display_data"
    },
    {
     "data": {
      "image/png": "[encoded data removed]",
      "text/plain": [
       "<Figure size 432x288 with 1 Axes>"
      ]
     },
     "metadata": {
      "needs_background": "light"
     },
     "output_type": "display_data"
    }
   ],
   "source": [
    "for start in [(-100,0,-50), (-10,10,5), (-1,1,0), (-0.0001,0.0001,0)]:\n",
    "    gibbs_df = gibbs(10000, 5000, start)\n",
    "    plt.hist2d(gibbs_df['x'],gibbs_df['y'], bins = 50)\n",
    "    plt.title(f\"X and Y for {start}\")\n",
    "    plt.xlabel(\"X\")\n",
    "    plt.ylabel(\"Y\")\n",
    "    plt.show()\n",
    "    gibbs_df['z'].hist()\n",
    "    plt.title(f\"Z for {start}\")\n",
    "    plt.xlabel(\"Z\")\n",
    "    plt.ylabel(\"Frequency\")\n",
    "    plt.show()"
   ]
  },
  {
   "cell_type": "markdown",
   "id": "disciplinary-restoration",
   "metadata": {},
   "source": [
    "From the looks of things, in all four start cases Gibbs converges to the target distribution."
   ]
  },
  {
   "cell_type": "markdown",
   "id": "correct-checklist",
   "metadata": {},
   "source": [
    "## Epilogue: Metropolis-Hastings Revisited"
   ]
  },
  {
   "cell_type": "code",
   "execution_count": 84,
   "id": "greater-object",
   "metadata": {},
   "outputs": [],
   "source": [
    "z = 0\n",
    "M = exp(z)\n",
    "\n",
    "def mh_step(theta: tuple):\n",
    "    \"\"\"Implements one step of the Metropolis-Hastings algorithm.\"\"\"\n",
    "    x_curr,y_curr = theta\n",
    "    x_prop,y_prop = g(x_curr,y_curr) #sample s from g(s)\n",
    "    \n",
    "    #g is negative?\n",
    "    \n",
    "    #(f_density(x_prop,y_prop)*h_ji) /\n",
    "    #(f_density(x_curr,y_curr)*h_ij)\n",
    "    #what's h_ij/h_ji here? https://stats.stackexchange.com/questions/27913/acceptance-ratio-in-metropolis-hastings-algorithm\n",
    "    #note: if h_ij == h_ji, then this is just Metropolis and we can just do f(prop)/f(curr). let's assume that for now.\n",
    "    \n",
    "    accept_prob = min(f_density(x_prop,y_prop)/f_density(x_curr,y_curr), 1) #accept with probability f(s)/g(s)+M\n",
    "    \n",
    "    return {'accepted': accept_prob >= uniform(), 'value': (x_prop,y_prop), 'accept_prob': accept_prob}\n",
    "\n",
    "def mh(n_samples: int, n_burn: int, start_params: tuple=(1,1.1), n_lag: int=1):\n",
    "    \"\"\"Implements the Metropolis-Hastings algorithm.\"\"\"\n",
    "    results = []\n",
    "    lag_count = 0\n",
    "    curr_params = start_params\n",
    "    for _ in range(n_burn): #burn-in period, results aren't saved\n",
    "        result = mh_step(curr_params)\n",
    "        if result['accepted']:\n",
    "            curr_params = result['value']\n",
    "    for _ in range(n_samples):\n",
    "        for _ in range(n_lag):\n",
    "            result = mh_step(curr_params)\n",
    "            if result['accepted']:\n",
    "                curr_params = result['value']\n",
    "        results.append(result)\n",
    "    return results"
   ]
  },
  {
   "cell_type": "code",
   "execution_count": 136,
   "id": "steady-diversity",
   "metadata": {},
   "outputs": [
    {
     "name": "stdout",
     "output_type": "stream",
     "text": [
      "f: 6.621829658754603e-09\tg: -0.011938523059587466\n"
     ]
    },
    {
     "data": {
      "text/plain": [
       "{'accepted': False,\n",
       " 'value': (-3.9843148532417345, 3.7267585056346153),\n",
       " 'accept_prob': 1.3300300410997477e-07}"
      ]
     },
     "execution_count": 136,
     "metadata": {},
     "output_type": "execute_result"
    }
   ],
   "source": [
    "mh_step((0,3))\n",
    "#what was I programming originally? was it right?"
   ]
  },
  {
   "cell_type": "markdown",
   "id": "phantom-suite",
   "metadata": {},
   "source": [
    "- This was the general structure of my Metropolis-Hastings code. You mentioned that I did Metropolis-Hastings when I really should have done rejection sampling, but is my Metropolis-Hastings code correct?\n",
    "    - I actually can see this is really only the Metropolis case now, how would I calculate h_ji and h_ij which are necessary?\n",
    "- Now to make it adaptive? I keep track of previous guesses right?\n",
    "- What do I do for a simulated study? The study showed two examples, one was low dimensional, just a bimodal situation. THe other was more high dimensional. What do I pick for f? Should I pick a few different examples, some of them showing why adaptiveness is effective and others not?\n",
    "\n",
    "### To-Do:\n",
    "1. Look at adaptive algorithm (in Arman's slides), see if I can adapt my code to it.\n",
    "2. Make an example new f for simulation tests."
   ]
  }
 ],
 "metadata": {
  "kernelspec": {
   "display_name": "Python 3",
   "language": "python",
   "name": "python3"
  },
  "language_info": {
   "codemirror_mode": {
    "name": "ipython",
    "version": 3
   },
   "file_extension": ".py",
   "mimetype": "text/x-python",
   "name": "python",
   "nbconvert_exporter": "python",
   "pygments_lexer": "ipython3",
   "version": "3.8.7"
  }
 },
 "nbformat": 4,
 "nbformat_minor": 5
}
