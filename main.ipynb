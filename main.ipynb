{
 "cells": [
  {
   "cell_type": "markdown",
   "id": "partial-draft",
   "metadata": {},
   "source": [
    "# STAT778: Homework 5\n",
    "*Sean Steinle*\n",
    "\n",
    "## Table of Contents\n",
    "1. [Inverse Transform Sampling and Metropolis-Hastings](#Inverse-Transform-Sampling-and-Metropolis-Hastings)\n",
    "    - [Inverse Transform Sampling for G](#Inverse-Transform-Sampling-for-G)\n",
    "    - [A Valid Envelope](#A-Valid-Envelope)\n",
    "    - [Rejection Sampling for F](#Rejection-Sampling-for-F)\n",
    "2. [Gibbs Sampling](#Gibbs-Sampling)"
   ]
  },
  {
   "cell_type": "markdown",
   "id": "abandoned-assistant",
   "metadata": {},
   "source": [
    "## Inverse Transform Sampling and Metropolis-Hastings"
   ]
  },
  {
   "cell_type": "markdown",
   "id": "eastern-public",
   "metadata": {},
   "source": [
    "### Inverse Transform Sampling for G"
   ]
  },
  {
   "cell_type": "markdown",
   "id": "sticky-button",
   "metadata": {},
   "source": [
    "Question 1a asks us to create a sampler for g.\n",
    "1. We can treat g(x,y|z) as two independent variables g(x|z) and g(y|z).\n",
    "2. Both g(x|z) and g(y|z) have the same functional form as each other. The only different is that x is distributed from (-inf,inf) while y is distributed from \\[0,inf).\n",
    "3. Both g(x|z) and g(y|z) have the same functional form as the Laplace distribution, where z is the location parameter and diversity is set as the square root of 2.\n",
    "4. Because we know the Laplace distribution has a closed-form inverse, we can use inverse transform sampling to generate random numbers of the same functional form as g(x|z) and g(y|z)."
   ]
  },
  {
   "cell_type": "code",
   "execution_count": 70,
   "id": "threaded-shopper",
   "metadata": {},
   "outputs": [],
   "source": [
    "#imports\n",
    "import matplotlib.pyplot as plt\n",
    "import pandas as pd\n",
    "from numpy.random import uniform, normal, laplace\n",
    "from numpy import sign\n",
    "from math import exp, log"
   ]
  },
  {
   "cell_type": "code",
   "execution_count": 2,
   "id": "moral-parks",
   "metadata": {},
   "outputs": [],
   "source": [
    "def stdtnorm(x, y):\n",
    "    \"\"\"Returns the density from a truncated standard normal distribution.\"\"\"\n",
    "    sample = normal(0, 1)\n",
    "    if x < sample < y:\n",
    "        return sample\n",
    "    else:\n",
    "        return 0\n",
    "    \n",
    "def gtildad(x,y):\n",
    "    \"\"\"Returns the density of g_tilda.\"\"\"\n",
    "    if y < 0: raise ValueError(\"y must be positive.\")\n",
    "    z = stdtnorm(x,y)\n",
    "    return exp((-1/(2**0.5))*abs(x-z)) * exp((-1/(2**0.5))*abs(y-z))\n",
    "\n",
    "def gtildas(x,y,n):\n",
    "    \"\"\"Samples n times from the bivariate distribution g_tilda.\"\"\"\n",
    "    #THIS ISN'T RIGHT\n",
    "    return sum(gtildad(x,y) > uniform() for _ in range(n))"
   ]
  },
  {
   "cell_type": "code",
   "execution_count": 35,
   "id": "crucial-hepatitis",
   "metadata": {},
   "outputs": [
    {
     "data": {
      "text/plain": [
       "(array([1.5000e+01, 9.5000e+01, 9.0800e+02, 7.3210e+03, 5.5886e+04,\n",
       "        3.1430e+04, 3.8210e+03, 4.7300e+02, 4.3000e+01, 8.0000e+00]),\n",
       " array([-10.25043267,  -8.13248754,  -6.01454241,  -3.89659728,\n",
       "         -1.77865215,   0.33929298,   2.45723812,   4.57518325,\n",
       "          6.69312838,   8.81107351,  10.92901864]),\n",
       " <BarContainer object of 10 artists>)"
      ]
     },
     "execution_count": 35,
     "metadata": {},
     "output_type": "execute_result"
    },
    {
     "data": {
      "image/png": "[encoded data removed]",
      "text/plain": [
       "<Figure size 432x288 with 1 Axes>"
      ]
     },
     "metadata": {
      "needs_background": "light"
     },
     "output_type": "display_data"
    }
   ],
   "source": [
    "samples = [laplace() for _ in range(100000)]\n",
    "plt.hist(samples)"
   ]
  },
  {
   "cell_type": "code",
   "execution_count": 42,
   "id": "religious-establishment",
   "metadata": {},
   "outputs": [],
   "source": [
    "def laplaces(mu: int = 0, beta: int = 1): #IN OUR TERMINOLOGY, mu is z!\n",
    "    u = uniform()\n",
    "    return mu - beta * sign(u - 0.5) * log(1 - 2 * abs(u - 0.5))"
   ]
  },
  {
   "cell_type": "code",
   "execution_count": 69,
   "id": "written-chorus",
   "metadata": {},
   "outputs": [
    {
     "data": {
      "text/plain": [
       "0.37976537649727"
      ]
     },
     "execution_count": 69,
     "metadata": {},
     "output_type": "execute_result"
    }
   ],
   "source": [
    "laplaces(0,1)"
   ]
  },
  {
   "cell_type": "markdown",
   "id": "understood-retirement",
   "metadata": {},
   "source": [
    "POST OFFICE HOURS TO DO LIST:\n",
    "- 1a\n",
    "    - treat z as a constant\n",
    "    - factorize X and Y\n",
    "        - they are essentially the same thing too, but y's domain is different\n",
    "    - can figure out how to sample by googling how to sample laplace/double exponential\n",
    "        - exponential + coin flip (+ rejection < 0 for y)\n",
    "        - should check against np.random.laplace\n",
    "- 1b\n",
    "    - valid envelope if g's domain >= f and if g majorizes f.\n",
    "    - g's domain >= f because both are from -inf>inf and 0>inf for X and Y respectively. just a trivial shift of (xtilda-ytilda) for f\n",
    "    - e^|z|\\*g majorizes f because ...\n",
    "        - decompose max into two cases, makes things easier\n",
    "- 1c\n",
    "    - rejection sampling baby!\n",
    "    \n",
    "{\\displaystyle F^{-1}(p)=\\mu -b\\,\\operatorname {sgn}(p-0.5)\\,\\ln(1-2|p-0.5|).}"
   ]
  },
  {
   "cell_type": "markdown",
   "id": "massive-hydrogen",
   "metadata": {},
   "source": [
    "### A Valid Envelope"
   ]
  },
  {
   "cell_type": "markdown",
   "id": "relative-muscle",
   "metadata": {},
   "source": [
    "### Rejection Sampling for F"
   ]
  },
  {
   "cell_type": "markdown",
   "id": "egyptian-debut",
   "metadata": {},
   "source": [
    "## Gibbs Sampling"
   ]
  }
 ],
 "metadata": {
  "kernelspec": {
   "display_name": "Python 3",
   "language": "python",
   "name": "python3"
  },
  "language_info": {
   "codemirror_mode": {
    "name": "ipython",
    "version": 3
   },
   "file_extension": ".py",
   "mimetype": "text/x-python",
   "name": "python",
   "nbconvert_exporter": "python",
   "pygments_lexer": "ipython3",
   "version": "3.8.7"
  }
 },
 "nbformat": 4,
 "nbformat_minor": 5
}
